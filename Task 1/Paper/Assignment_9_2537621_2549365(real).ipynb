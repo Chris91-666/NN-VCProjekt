{
 "cells": [
  {
   "cell_type": "markdown",
   "metadata": {
    "id": "6GGdDzNp-gEg"
   },
   "source": [
    "# Assignment 9 (Exercise 9.3)\n",
    "\n",
    "## Simon Laurent Lebailly, 2549365, s9sileba@teams.uni-saarland.de\n",
    "## Christian Mathieu Schmidt, 2537621, s9cmscmi@teams.uni-saarland.de\n",
    "\n",
    "\n",
    "\n",
    "### In the lecture you have been introduced to VGG16. For this problem your task is to implement a VGG like CNN architecture for classification on the CIFAR10 dataset."
   ]
  },
  {
   "cell_type": "code",
   "execution_count": 1,
   "metadata": {
    "id": "BQs8RyYL9nUc"
   },
   "outputs": [],
   "source": [
    "import torch\n",
    "import torchvision\n",
    "import torchvision.transforms as transforms\n",
    "import torch.nn as nn\n",
    "import torch.nn.functional as F"
   ]
  },
  {
   "cell_type": "markdown",
   "metadata": {
    "id": "ZZ1AZfUD_HZ9"
   },
   "source": [
    "### 1. Load the dataset (0.5 point)\n",
    "To load the dataset, you can use the inbuilt dataloader for CIFAR10 provided in the torchvision package. Load both test set and trainset separately. Define the transformations you might need to load the data appropriately."
   ]
  },
  {
   "cell_type": "code",
   "execution_count": 2,
   "metadata": {
    "colab": {
     "base_uri": "https://localhost:8080/"
    },
    "id": "bOSZHQRT9nUr",
    "outputId": "d162efa6-ebb5-4bcc-93f5-3bd6f8779048"
   },
   "outputs": [
    {
     "name": "stdout",
     "output_type": "stream",
     "text": [
      "CUDA available!\n",
      "Files already downloaded and verified\n",
      "Quantity training data: 50000\n",
      "Files already downloaded and verified\n",
      "Quantity test data: 10000\n"
     ]
    }
   ],
   "source": [
    "#Import datasets from torchvision to import the CIFAR10 dataset\n",
    "from torchvision import datasets\n",
    "\n",
    "\n",
    "#Check if CUDA is available, if not use the CPU. \n",
    "#We have worked on a PC (CUDA available) and a Macbook (CUDA not available), so we have used both.\n",
    "#Therefore we have implemented a case distinction, and we have modified the code where necessary.\n",
    "train_on_GPU = torch.cuda.is_available()\n",
    "device = torch.device('cuda' if train_on_GPU else 'cpu')\n",
    "\n",
    "if train_on_GPU:\n",
    "    print('CUDA available!')\n",
    "else:\n",
    "    print('CUDA not available!')\n",
    "\n",
    "\n",
    "#Hyperparameters:\n",
    "batch_size = 4\n",
    "learning_rate = 0.01\n",
    "\n",
    "\n",
    "\n",
    "transform = transforms.Compose([transforms.ToTensor(), transforms.Normalize((0.5,0.5,0.5), (0.5,0.5,0.5))])\n",
    "\n",
    "trainset = datasets.CIFAR10('data', train=True, download=True, transform=transform)\n",
    "quantity_train = len(trainset)\n",
    "print('Quantity training data: '+ str(quantity_train))\n",
    "\n",
    "trainloader = torch.utils.data.DataLoader(trainset, batch_size=batch_size, shuffle=True)\n",
    "\n",
    "\n",
    "testset = datasets.CIFAR10('data', train=False, download=True, transform=transform)\n",
    "quantity_test = len(testset)\n",
    "print('Quantity test data: '+ str(quantity_test))\n",
    "\n",
    "testloader = torch.utils.data.DataLoader(testset, batch_size=batch_size, shuffle=False)\n",
    "\n",
    "\n",
    "classes = ('plane', 'car', 'bird', 'cat',\n",
    "           'deer', 'dog', 'frog', 'horse', 'ship', 'truck')\n"
   ]
  },
  {
   "cell_type": "markdown",
   "metadata": {
    "id": "VGpxcaoc_te7"
   },
   "source": [
    "### Create the model architecture (1.0 point)\n",
    "Implement the class below such that the final architecture follows the same pattern of layers as VGG16."
   ]
  },
  {
   "cell_type": "code",
   "execution_count": 3,
   "metadata": {
    "id": "BeCGIwT99nUs"
   },
   "outputs": [],
   "source": [
    "class Net(nn.Module):\n",
    "    def __init__(self):\n",
    "        super(Net, self).__init__()\n",
    "        \n",
    "        #Pooling filter with size 2x2, to halve the size of the image\n",
    "        self.pool = nn.MaxPool2d(2,2)        \n",
    "        \n",
    "        #First VGG layer with two times Convolution and duplicating of the features\n",
    "        self.conv11 = nn.Conv2d(3,16,3)\n",
    "        self.conv12 = nn.Conv2d(16,16,3)\n",
    "        \n",
    "        #Second VGG layer with three times Convolution and duplicating of the features\n",
    "        self.conv21 = nn.Conv2d(16,32,3)\n",
    "        self.conv22 = nn.Conv2d(32,32,3)\n",
    "        self.conv23 = nn.Conv2d(32,32,3)\n",
    "        \n",
    "        #Third VGG layer with fully connected layers\n",
    "        self.fc1 = nn.Linear(32*4*4, 64)\n",
    "        self.fc2 = nn.Linear(64, 16)\n",
    "        self.fc3 = nn.Linear(16, 10)\n",
    "\n",
    "        self.output = nn.Softmax()\n",
    "        \n",
    "\n",
    "    def forward(self, x):\n",
    "        #First VGG layer with two times Convolution + ReLu and duplicating of the features\n",
    "        #Pooling filter with size 2x2, to halve the size of the image, after the second convolution\n",
    "        out = F.relu(self.conv11(x))\n",
    "        out = self.pool(F.relu(self.conv12(out)))\n",
    "        \n",
    "        #Second VGG layer with three times Convolution + ReLu and duplicating of the features\n",
    "        #Pooling filter with size 2x2, to halve the size of the image, after the third convolution\n",
    "        out = F.relu(self.conv21(out))\n",
    "        out = F.relu(self.conv22(out))\n",
    "        out = self.pool(F.relu(self.conv23(out)))\n",
    "        \n",
    "        #Third VGG layer with fully connected layers\n",
    "        out = out.view(-1, 32*4*4)\n",
    "        out = F.relu(self.fc1(out))\n",
    "        out = F.relu(self.fc2(out))\n",
    "        out = self.fc3(out)\n",
    "        out = self.output(out)\n",
    "        \n",
    "        #We don't use SOFTMAX in the forward process, because we use CrossEntropyLoss() as criterion\n",
    "        \n",
    "        return out\n",
    "\n",
    "\n",
    "net = Net().to(device)\n"
   ]
  },
  {
   "cell_type": "markdown",
   "metadata": {
    "id": "NbNC9ujQAJY6"
   },
   "source": [
    "### Loss function and optimizer (0.5 point)\n",
    "Define the loss function and optimizer to train the model."
   ]
  },
  {
   "cell_type": "code",
   "execution_count": 4,
   "metadata": {
    "id": "s5bALqHB9nUt"
   },
   "outputs": [],
   "source": [
    "criterion = nn.CrossEntropyLoss()\n",
    "optimizer = torch.optim.SGD(net.parameters(), lr=learning_rate)"
   ]
  },
  {
   "cell_type": "markdown",
   "metadata": {
    "id": "aWmCHNJSAUe1"
   },
   "source": [
    "### Train the model (1.0 point)"
   ]
  },
  {
   "cell_type": "code",
   "execution_count": 5,
   "metadata": {
    "colab": {
     "base_uri": "https://localhost:8080/"
    },
    "id": "pF7eNJ389nUt",
    "outputId": "6d295863-682c-4fa4-92b3-9040956f01a3"
   },
   "outputs": [
    {
     "name": "stderr",
     "output_type": "stream",
     "text": [
      "c:\\users\\chris\\appdata\\local\\programs\\python\\python37\\lib\\site-packages\\ipykernel_launcher.py:42: UserWarning: Implicit dimension choice for softmax has been deprecated. Change the call to include dim=X as an argument.\n"
     ]
    },
    {
     "name": "stdout",
     "output_type": "stream",
     "text": [
      "Progress: 2.0%, Epoch: 1, Datasets: 1000, Loss: 2.2950148582458496, Mean Loss: 2.2950148582458496\n",
      "Progress: 4.0%, Epoch: 1, Datasets: 2000, Loss: 2.2954649925231934, Mean Loss: 2.2952399253845215\n",
      "Progress: 6.0%, Epoch: 1, Datasets: 3000, Loss: 2.3010194301605225, Mean Loss: 2.297166426976522\n",
      "Progress: 8.0%, Epoch: 1, Datasets: 4000, Loss: 2.2977943420410156, Mean Loss: 2.2973234057426453\n",
      "Progress: 10.0%, Epoch: 1, Datasets: 5000, Loss: 2.310741424560547, Mean Loss: 2.3000070095062255\n",
      "Progress: 12.0%, Epoch: 1, Datasets: 6000, Loss: 2.3115005493164062, Mean Loss: 2.301922599474589\n",
      "Progress: 14.0%, Epoch: 1, Datasets: 7000, Loss: 2.3066325187683105, Mean Loss: 2.3025954450879778\n",
      "Progress: 16.0%, Epoch: 1, Datasets: 8000, Loss: 2.3100180625915527, Mean Loss: 2.3035232722759247\n",
      "Progress: 18.0%, Epoch: 1, Datasets: 9000, Loss: 2.307799816131592, Mean Loss: 2.303998443815443\n",
      "Progress: 20.0%, Epoch: 1, Datasets: 10000, Loss: 2.3021998405456543, Mean Loss: 2.3038185834884644\n",
      "Progress: 22.0%, Epoch: 1, Datasets: 11000, Loss: 2.3014075756073, Mean Loss: 2.303599400953813\n",
      "Progress: 24.0%, Epoch: 1, Datasets: 12000, Loss: 2.2977778911590576, Mean Loss: 2.3031142751375833\n",
      "Progress: 25.0%, Epoch: 1, Datasets: 12500, Loss: 2.3060436248779297, Mean Loss: 2.3033396097329946\n",
      "Progress: 26.0%, Epoch: 2, Datasets: 13000, Loss: 2.3048930168151855, Mean Loss: 2.3034505673817227\n",
      "Progress: 28.0%, Epoch: 2, Datasets: 14000, Loss: 2.299467086791992, Mean Loss: 2.303185002009074\n",
      "Progress: 30.0%, Epoch: 2, Datasets: 15000, Loss: 2.304129123687744, Mean Loss: 2.303244009613991\n",
      "Progress: 32.0%, Epoch: 2, Datasets: 16000, Loss: 2.3012120723724365, Mean Loss: 2.3031244838938996\n",
      "Progress: 34.0%, Epoch: 2, Datasets: 17000, Loss: 2.3005034923553467, Mean Loss: 2.3029788732528687\n",
      "Progress: 36.0%, Epoch: 2, Datasets: 18000, Loss: 2.3137402534484863, Mean Loss: 2.303545261684217\n",
      "Progress: 38.0%, Epoch: 2, Datasets: 19000, Loss: 2.2934927940368652, Mean Loss: 2.303042638301849\n",
      "Progress: 40.0%, Epoch: 2, Datasets: 20000, Loss: 2.3002328872680664, Mean Loss: 2.302908840633574\n",
      "Progress: 42.0%, Epoch: 2, Datasets: 21000, Loss: 2.313342809677124, Mean Loss: 2.3033831119537354\n",
      "Progress: 44.0%, Epoch: 2, Datasets: 22000, Loss: 2.30487060546875, Mean Loss: 2.3034477855848228\n",
      "Progress: 46.0%, Epoch: 2, Datasets: 23000, Loss: 2.311135768890381, Mean Loss: 2.3037681182225547\n",
      "Progress: 48.0%, Epoch: 2, Datasets: 24000, Loss: 2.291883707046509, Mean Loss: 2.303292741775513\n",
      "Progress: 49.0%, Epoch: 2, Datasets: 24500, Loss: 2.3005878925323486, Mean Loss: 2.303188709112314\n",
      "Progress: 50.0%, Epoch: 3, Datasets: 25000, Loss: 2.307835102081299, Mean Loss: 2.303360797740795\n",
      "Progress: 52.0%, Epoch: 3, Datasets: 26000, Loss: 2.299003839492798, Mean Loss: 2.303205192089081\n",
      "Progress: 54.0%, Epoch: 3, Datasets: 27000, Loss: 2.3073816299438477, Mean Loss: 2.3033492071875212\n",
      "Progress: 56.0%, Epoch: 3, Datasets: 28000, Loss: 2.3106393814086914, Mean Loss: 2.3035922129948934\n",
      "Progress: 58.0%, Epoch: 3, Datasets: 29000, Loss: 2.300778865814209, Mean Loss: 2.3035014598600325\n",
      "Progress: 60.0%, Epoch: 3, Datasets: 30000, Loss: 2.3005385398864746, Mean Loss: 2.303408868610859\n",
      "Progress: 62.0%, Epoch: 3, Datasets: 31000, Loss: 2.3036084175109863, Mean Loss: 2.3034149155472265\n",
      "Progress: 64.0%, Epoch: 3, Datasets: 32000, Loss: 2.299038887023926, Mean Loss: 2.303286208825953\n",
      "Progress: 66.0%, Epoch: 3, Datasets: 33000, Loss: 2.306999683380127, Mean Loss: 2.303392308098929\n",
      "Progress: 68.0%, Epoch: 3, Datasets: 34000, Loss: 2.298125743865967, Mean Loss: 2.3032460146480136\n",
      "Progress: 70.0%, Epoch: 3, Datasets: 35000, Loss: 2.302929639816284, Mean Loss: 2.303237463976886\n",
      "Progress: 72.0%, Epoch: 3, Datasets: 36000, Loss: 2.3011550903320312, Mean Loss: 2.3031826646704423\n",
      "Progress: 73.0%, Epoch: 3, Datasets: 36500, Loss: 2.304335355758667, Mean Loss: 2.3032122208521915\n",
      "Progress: 74.0%, Epoch: 4, Datasets: 37000, Loss: 2.2999041080474854, Mean Loss: 2.303129518032074\n",
      "Progress: 76.0%, Epoch: 4, Datasets: 38000, Loss: 2.3054330348968506, Mean Loss: 2.3031857013702393\n",
      "Progress: 78.0%, Epoch: 4, Datasets: 39000, Loss: 2.302123546600342, Mean Loss: 2.303160411970956\n",
      "Progress: 80.0%, Epoch: 4, Datasets: 40000, Loss: 2.2974953651428223, Mean Loss: 2.3030286666958832\n",
      "Progress: 82.0%, Epoch: 4, Datasets: 41000, Loss: 2.307919502258301, Mean Loss: 2.3031398220495745\n",
      "Progress: 84.0%, Epoch: 4, Datasets: 42000, Loss: 2.306952714920044, Mean Loss: 2.3032245530022517\n",
      "Progress: 86.0%, Epoch: 4, Datasets: 43000, Loss: 2.3073270320892334, Mean Loss: 2.3033137373302295\n",
      "Progress: 88.0%, Epoch: 4, Datasets: 44000, Loss: 2.3047571182250977, Mean Loss: 2.303344447562035\n",
      "Progress: 90.0%, Epoch: 4, Datasets: 45000, Loss: 2.3060641288757324, Mean Loss: 2.3034011075894036\n",
      "Progress: 92.0%, Epoch: 4, Datasets: 46000, Loss: 2.301020383834839, Mean Loss: 2.303352521390331\n",
      "Progress: 94.0%, Epoch: 4, Datasets: 47000, Loss: 2.310213565826416, Mean Loss: 2.303489742279053\n",
      "Progress: 96.0%, Epoch: 4, Datasets: 48000, Loss: 2.309576988220215, Mean Loss: 2.303609100042605\n",
      "Progress: 97.0%, Epoch: 4, Datasets: 48500, Loss: 2.3029491901397705, Mean Loss: 2.3035964094675503\n",
      "Finished Training\n"
     ]
    },
    {
     "data": {
      "text/plain": "<Figure size 432x288 with 1 Axes>",
      "image/png": "[encoded data removed]"
     },
     "metadata": {
      "needs_background": "light"
     },
     "output_type": "display_data"
    }
   ],
   "source": [
    "#Import matplotlib to show the course of the loss\n",
    "import matplotlib.pyplot as plt\n",
    "\n",
    "#Two lists  only used for the plot and the statistics\n",
    "lossdata = []\n",
    "mean_lossdata = []\n",
    "\n",
    "#We have used 16 epochs, because we had the best results (actual >= 70% accuracy total) in dependence of the time the CNN needs to train (ca. 20min).\n",
    "epochs = 4\n",
    "\n",
    "for epoch in range(epochs):\n",
    "    for i, data in enumerate(trainloader, 0):\n",
    "        #\"Transport\" the data to CUDA if available, and otherwise to the CPU\n",
    "        image = data[0].to(device)\n",
    "        label = data[1].to(device)\n",
    "        \n",
    "        #Compute the forward propagation\n",
    "        output = net(image)\n",
    "        \n",
    "        #Compute the train loss\n",
    "        loss = criterion(output, label)\n",
    "        \n",
    "        #Reset gradient and execute backpropagation and optimization\n",
    "        optimizer.zero_grad()\n",
    "        loss.backward()\n",
    "        optimizer.step()\n",
    "        \n",
    "        #Print statistics\n",
    "        if ((i+1) % 1000 == 0) or ((i+1) % (50000/batch_size) == 0):\n",
    "            lossdata.append(loss.item())\n",
    "            mean_loss = sum(lossdata)/len(lossdata)\n",
    "            mean_lossdata.append(mean_loss)\n",
    "            \n",
    "            print(\"Progress: \" + str(round(((((i+1)+epoch*12000)*100)/((50000/batch_size)*epochs)), 2)) + \"%, Epoch: \" + str(epoch+1) \n",
    "                  + \", Datasets: \" + str((i+1)+epoch*12000) + \", Loss: \" + str(loss.item()) + \", Mean Loss: \" + str(mean_loss))\n",
    "\n",
    "\n",
    "print('Finished Training')\n",
    "\n",
    "#Plot the train loss function\n",
    "plt.title(\"Loss during the training of the CNN\")\n",
    "plt.plot(lossdata,'-b',label='Loss')\n",
    "plt.plot(mean_lossdata,'-r',label='Mean Loss')\n",
    "plt.xlabel('Number of datasets divided by 1000')\n",
    "plt.ylabel('Loss')\n",
    "plt.legend(loc='upper right')\n",
    "plt.show()\n"
   ]
  },
  {
   "cell_type": "markdown",
   "metadata": {
    "id": "aLlqZjZiA5nf"
   },
   "source": [
    "Code below generates the class wise accuracy of the model. You can use the results from the code below to decide the values of hyperparametrs."
   ]
  },
  {
   "cell_type": "code",
   "execution_count": 6,
   "metadata": {
    "colab": {
     "base_uri": "https://localhost:8080/"
    },
    "id": "ughmKpRj9nUu",
    "outputId": "fffdb66d-2876-4689-803e-e0412d7950a3"
   },
   "outputs": [
    {
     "name": "stderr",
     "output_type": "stream",
     "text": [
      "c:\\users\\chris\\appdata\\local\\programs\\python\\python37\\lib\\site-packages\\ipykernel_launcher.py:42: UserWarning: Implicit dimension choice for softmax has been deprecated. Change the call to include dim=X as an argument.\n"
     ]
    },
    {
     "name": "stdout",
     "output_type": "stream",
     "text": [
      "Accuracy of plane :  0 %\n",
      "Accuracy of   car :  0 %\n",
      "Accuracy of  bird :  0 %\n",
      "Accuracy of   cat :  0 %\n",
      "Accuracy of  deer :  0 %\n",
      "Accuracy of   dog :  0 %\n",
      "Accuracy of  frog :  0 %\n",
      "Accuracy of horse :  0 %\n",
      "Accuracy of  ship :  0 %\n",
      "Accuracy of truck : 100 %\n",
      " \n",
      "Accuracy total: 10.0%\n"
     ]
    }
   ],
   "source": [
    "\n",
    "class_correct = list(0. for i in range(10))\n",
    "class_total = list(0. for i in range(10))\n",
    "with torch.no_grad():\n",
    "    for data in testloader:\n",
    "        images, labels = data\n",
    "        \n",
    "        #We have set .cuda() to .to(device) because of the different systems we have used.\n",
    "        images = images.to(device)\n",
    "        labels = labels.to(device)\n",
    "        \n",
    "        outputs = net(images)\n",
    "        _, predicted = torch.max(outputs, 1)\n",
    "        c = (predicted == labels).squeeze()\n",
    "        for i in range(4):\n",
    "            label = labels[i]\n",
    "            class_correct[label] += c[i].item()\n",
    "            class_total[label] += 1\n",
    "\n",
    "\n",
    "total_class = 0\n",
    "for i in range(10):\n",
    "    print('Accuracy of %5s : %2d %%' % (\n",
    "        classes[i], 100 * class_correct[i] / class_total[i]))\n",
    "    total_class += class_correct[i]\n",
    "\n",
    "\n",
    "#We have added the value of the overall accuracy.\n",
    "total = 100 * total_class / (len(testloader)*batch_size)\n",
    "\n",
    "print(\" \")\n",
    "print('Accuracy total: ' + str(total) + '%')\n"
   ]
  },
  {
   "cell_type": "code",
   "execution_count": 6,
   "metadata": {
    "id": "ei4AsQ6_-TXW"
   },
   "outputs": [],
   "source": []
  }
 ],
 "metadata": {
  "accelerator": "GPU",
  "colab": {
   "collapsed_sections": [],
   "name": "CNN_intro.ipynb",
   "provenance": []
  },
  "kernelspec": {
   "display_name": "Python 3",
   "language": "python",
   "name": "python3"
  },
  "language_info": {
   "codemirror_mode": {
    "name": "ipython",
    "version": 3
   },
   "file_extension": ".py",
   "mimetype": "text/x-python",
   "name": "python",
   "nbconvert_exporter": "python",
   "pygments_lexer": "ipython3",
   "version": "3.8.5"
  }
 },
 "nbformat": 4,
 "nbformat_minor": 4
}