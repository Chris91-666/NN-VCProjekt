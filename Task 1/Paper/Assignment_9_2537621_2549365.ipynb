{
 "cells": [
  {
   "cell_type": "markdown",
   "metadata": {
    "id": "6GGdDzNp-gEg"
   },
   "source": [
    "# Assignment 9 (Exercise 9.3)\n",
    "\n",
    "## Simon Laurent Lebailly, 2549365, s9sileba@teams.uni-saarland.de\n",
    "## Christian Mathieu Schmidt, 2537621, s9cmscmi@teams.uni-saarland.de\n",
    "\n",
    "\n",
    "\n",
    "### In the lecture you have been introduced to VGG16. For this problem your task is to implement a VGG like CNN architecture for classification on the CIFAR10 dataset."
   ]
  },
  {
   "cell_type": "code",
   "execution_count": 1,
   "metadata": {
    "id": "BQs8RyYL9nUc"
   },
   "outputs": [],
   "source": [
    "import torch\n",
    "import torchvision\n",
    "import torchvision.transforms as transforms\n",
    "import torch.nn as nn\n",
    "import torch.nn.functional as F"
   ]
  },
  {
   "cell_type": "markdown",
   "metadata": {
    "id": "ZZ1AZfUD_HZ9"
   },
   "source": [
    "### 1. Load the dataset (0.5 point)\n",
    "To load the dataset, you can use the inbuilt dataloader for CIFAR10 provided in the torchvision package. Load both test set and trainset separately. Define the transformations you might need to load the data appropriately."
   ]
  },
  {
   "cell_type": "code",
   "execution_count": 2,
   "metadata": {
    "colab": {
     "base_uri": "https://localhost:8080/"
    },
    "id": "bOSZHQRT9nUr",
    "outputId": "d162efa6-ebb5-4bcc-93f5-3bd6f8779048"
   },
   "outputs": [
    {
     "name": "stdout",
     "output_type": "stream",
     "text": [
      "CUDA available!\n",
      "Files already downloaded and verified\n",
      "Quantity training data: 50000\n",
      "Files already downloaded and verified\n",
      "Quantity test data: 10000\n"
     ]
    }
   ],
   "source": [
    "#Import datasets from torchvision to import the CIFAR10 dataset\n",
    "from torchvision import datasets\n",
    "\n",
    "\n",
    "#Check if CUDA is available, if not use the CPU. \n",
    "#We have worked on a PC (CUDA available) and a Macbook (CUDA not available), so we have used both.\n",
    "#Therefore we have implemented a case distinction, and we have modified the code where necessary.\n",
    "train_on_GPU = torch.cuda.is_available()\n",
    "device = torch.device('cuda' if train_on_GPU else 'cpu')\n",
    "\n",
    "if train_on_GPU:\n",
    "    print('CUDA available!')\n",
    "else:\n",
    "    print('CUDA not available!')\n",
    "\n",
    "\n",
    "#Hyperparameters:\n",
    "batch_size = 4\n",
    "learning_rate = 0.01\n",
    "\n",
    "\n",
    "\n",
    "transform = transforms.Compose([transforms.ToTensor(), transforms.Normalize((0.5,0.5,0.5), (0.5,0.5,0.5))])\n",
    "\n",
    "trainset = datasets.CIFAR10('data', train=True, download=True, transform=transform)\n",
    "quantity_train = len(trainset)\n",
    "print('Quantity training data: '+ str(quantity_train))\n",
    "\n",
    "trainloader = torch.utils.data.DataLoader(trainset, batch_size=batch_size, shuffle=True)\n",
    "\n",
    "\n",
    "testset = datasets.CIFAR10('data', train=False, download=True, transform=transform)\n",
    "quantity_test = len(testset)\n",
    "print('Quantity test data: '+ str(quantity_test))\n",
    "\n",
    "testloader = torch.utils.data.DataLoader(testset, batch_size=batch_size, shuffle=False)\n",
    "\n",
    "\n",
    "classes = ('plane', 'car', 'bird', 'cat',\n",
    "           'deer', 'dog', 'frog', 'horse', 'ship', 'truck')\n"
   ]
  },
  {
   "cell_type": "markdown",
   "metadata": {
    "id": "VGpxcaoc_te7"
   },
   "source": [
    "### Create the model architecture (1.0 point)\n",
    "Implement the class below such that the final architecture follows the same pattern of layers as VGG16."
   ]
  },
  {
   "cell_type": "code",
   "execution_count": 3,
   "metadata": {
    "id": "BeCGIwT99nUs"
   },
   "outputs": [],
   "source": [
    "class Net(nn.Module):\n",
    "    def __init__(self):\n",
    "        super(Net, self).__init__()\n",
    "        \n",
    "        #Pooling filter with size 2x2, to halve the size of the image\n",
    "        self.pool = nn.MaxPool2d(2,2)        \n",
    "        \n",
    "        #First VGG layer with two times Convolution and duplicating of the features\n",
    "        self.conv11 = nn.Conv2d(3,16,3)\n",
    "        self.conv12 = nn.Conv2d(16,16,3)\n",
    "        \n",
    "        #Second VGG layer with three times Convolution and duplicating of the features\n",
    "        self.conv21 = nn.Conv2d(16,32,3)\n",
    "        self.conv22 = nn.Conv2d(32,32,3)\n",
    "        self.conv23 = nn.Conv2d(32,32,3)\n",
    "        \n",
    "        #Third VGG layer with fully connected layers\n",
    "        self.fc1 = nn.Linear(32*4*4, 64)\n",
    "        self.fc2 = nn.Linear(64, 16)\n",
    "        self.fc3 = nn.Linear(16, 10)\n",
    "\n",
    "        #Output with Softmax because of lossfunction cross entropy\n",
    "        self.output = nn.Softmax()\n",
    "        \n",
    "\n",
    "    def forward(self, x):\n",
    "        #First VGG layer with two times Convolution + ReLu and duplicating of the features\n",
    "        #Pooling filter with size 2x2, to halve the size of the image, after the second convolution\n",
    "        #print(x.size())\n",
    "        out = F.relu(self.conv11(x))\n",
    "        out = self.pool(F.relu(self.conv12(out)))\n",
    "        #print(out.size())\n",
    "        #Second VGG layer with three times Convolution + ReLu and duplicating of the features\n",
    "        #Pooling filter with size 2x2, to halve the size of the image, after the third convolution\n",
    "        out = F.relu(self.conv21(out))\n",
    "        out = F.relu(self.conv22(out))\n",
    "        out = self.pool(F.relu(self.conv23(out)))\n",
    "        #print(out.size())\n",
    "        #Third VGG layer with fully connected layers\n",
    "        out = out.view(-1, 32*4*4)\n",
    "        #print(out.size())\n",
    "        out = F.relu(self.fc1(out))\n",
    "        #print(out.size())\n",
    "        out = F.relu(self.fc2(out))\n",
    "        #print(out.size())\n",
    "        out = self.fc3(out)\n",
    "        #print(out.size())\n",
    "        #print(out)\n",
    "        out = self.output(out)\n",
    "        #print(out)\n",
    "        #print(\"Ratatata\")\n",
    "        \n",
    "        #We don't use SOFTMAX in the forward process, because we use CrossEntropyLoss() as criterion\n",
    "        return out\n",
    "\n",
    "\n",
    "net = Net().to(device)\n"
   ]
  },
  {
   "cell_type": "markdown",
   "metadata": {
    "id": "NbNC9ujQAJY6"
   },
   "source": [
    "### Loss function and optimizer (0.5 point)\n",
    "Define the loss function and optimizer to train the model."
   ]
  },
  {
   "cell_type": "code",
   "execution_count": 4,
   "metadata": {
    "id": "s5bALqHB9nUt"
   },
   "outputs": [],
   "source": [
    "criterion = nn.CrossEntropyLoss()\n",
    "optimizer = torch.optim.SGD(net.parameters(), lr=learning_rate)"
   ]
  },
  {
   "cell_type": "markdown",
   "metadata": {
    "id": "aWmCHNJSAUe1"
   },
   "source": [
    "### Train the model (1.0 point)"
   ]
  },
  {
   "cell_type": "code",
   "execution_count": 5,
   "metadata": {
    "colab": {
     "base_uri": "https://localhost:8080/"
    },
    "id": "pF7eNJ389nUt",
    "outputId": "6d295863-682c-4fa4-92b3-9040956f01a3"
   },
   "outputs": [
    {
     "name": "stderr",
     "output_type": "stream",
     "text": [
      "c:\\users\\chris\\appdata\\local\\programs\\python\\python37\\lib\\site-packages\\ipykernel_launcher.py:49: UserWarning: Implicit dimension choice for softmax has been deprecated. Change the call to include dim=X as an argument.\n"
     ]
    },
    {
     "name": "stdout",
     "output_type": "stream",
     "text": [
      "Progress: 2.0%, Epoch: 1, Datasets: 1000, Loss: 2.3022258281707764, Mean Loss: 2.3022258281707764\n",
      "Progress: 4.0%, Epoch: 1, Datasets: 2000, Loss: 2.2942309379577637, Mean Loss: 2.29822838306427\n",
      "Progress: 6.0%, Epoch: 1, Datasets: 3000, Loss: 2.3133342266082764, Mean Loss: 2.3032636642456055\n",
      "Progress: 8.0%, Epoch: 1, Datasets: 4000, Loss: 2.312697410583496, Mean Loss: 2.305622100830078\n",
      "Progress: 10.0%, Epoch: 1, Datasets: 5000, Loss: 2.304638624191284, Mean Loss: 2.3054254055023193\n",
      "Progress: 12.0%, Epoch: 1, Datasets: 6000, Loss: 2.2950358390808105, Mean Loss: 2.3036938110987344\n",
      "Progress: 14.0%, Epoch: 1, Datasets: 7000, Loss: 2.2980804443359375, Mean Loss: 2.302891901561192\n",
      "Progress: 16.0%, Epoch: 1, Datasets: 8000, Loss: 2.3048930168151855, Mean Loss: 2.3031420409679413\n",
      "Progress: 18.0%, Epoch: 1, Datasets: 9000, Loss: 2.3001205921173096, Mean Loss: 2.3028063244289823\n",
      "Progress: 20.0%, Epoch: 1, Datasets: 10000, Loss: 2.3024110794067383, Mean Loss: 2.302766799926758\n",
      "Progress: 22.0%, Epoch: 1, Datasets: 11000, Loss: 2.3082222938537598, Mean Loss: 2.3032627539201216\n",
      "Progress: 24.0%, Epoch: 1, Datasets: 12000, Loss: 2.3136048316955566, Mean Loss: 2.304124593734741\n",
      "Progress: 25.0%, Epoch: 1, Datasets: 12500, Loss: 2.287942409515381, Mean Loss: 2.302879810333252\n",
      "Progress: 26.0%, Epoch: 2, Datasets: 13000, Loss: 2.293025255203247, Mean Loss: 2.302175913538252\n",
      "Progress: 28.0%, Epoch: 2, Datasets: 14000, Loss: 2.305150270462036, Mean Loss: 2.3023742039998374\n",
      "Progress: 30.0%, Epoch: 2, Datasets: 15000, Loss: 2.3163836002349854, Mean Loss: 2.303249791264534\n",
      "Progress: 32.0%, Epoch: 2, Datasets: 16000, Loss: 2.3037002086639404, Mean Loss: 2.3032762864056755\n",
      "Progress: 34.0%, Epoch: 2, Datasets: 17000, Loss: 2.305870294570923, Mean Loss: 2.3034203979704113\n",
      "Progress: 36.0%, Epoch: 2, Datasets: 18000, Loss: 2.3116495609283447, Mean Loss: 2.3038535118103027\n",
      "Progress: 38.0%, Epoch: 2, Datasets: 19000, Loss: 2.3010902404785156, Mean Loss: 2.3037153482437134\n",
      "Progress: 40.0%, Epoch: 2, Datasets: 20000, Loss: 2.312805652618408, Mean Loss: 2.3041482198806036\n",
      "Progress: 42.0%, Epoch: 2, Datasets: 21000, Loss: 2.3011209964752197, Mean Loss: 2.3040106188167226\n",
      "Progress: 44.0%, Epoch: 2, Datasets: 22000, Loss: 2.2965798377990723, Mean Loss: 2.3036875413811724\n",
      "Progress: 46.0%, Epoch: 2, Datasets: 23000, Loss: 2.3048715591430664, Mean Loss: 2.3037368754545846\n",
      "Progress: 48.0%, Epoch: 2, Datasets: 24000, Loss: 2.3115386962890625, Mean Loss: 2.304048948287964\n",
      "Progress: 49.0%, Epoch: 2, Datasets: 24500, Loss: 2.3085505962371826, Mean Loss: 2.3042220885937033\n",
      "Progress: 50.0%, Epoch: 3, Datasets: 25000, Loss: 2.298063039779663, Mean Loss: 2.3039939756746644\n",
      "Progress: 52.0%, Epoch: 3, Datasets: 26000, Loss: 2.29714298248291, Mean Loss: 2.303749297346388\n",
      "Progress: 54.0%, Epoch: 3, Datasets: 27000, Loss: 2.3042593002319336, Mean Loss: 2.3037668836527856\n",
      "Progress: 56.0%, Epoch: 3, Datasets: 28000, Loss: 2.3001904487609863, Mean Loss: 2.3036476691563923\n",
      "Progress: 58.0%, Epoch: 3, Datasets: 29000, Loss: 2.3045804500579834, Mean Loss: 2.303677758862895\n",
      "Progress: 60.0%, Epoch: 3, Datasets: 30000, Loss: 2.308779239654541, Mean Loss: 2.3038371801376343\n",
      "Progress: 62.0%, Epoch: 3, Datasets: 31000, Loss: 2.307917356491089, Mean Loss: 2.303960821845315\n",
      "Progress: 64.0%, Epoch: 3, Datasets: 32000, Loss: 2.2986299991607666, Mean Loss: 2.303804032942828\n",
      "Progress: 66.0%, Epoch: 3, Datasets: 33000, Loss: 2.301949977874756, Mean Loss: 2.303751059940883\n",
      "Progress: 68.0%, Epoch: 3, Datasets: 34000, Loss: 2.29522967338562, Mean Loss: 2.3035143547587924\n",
      "Progress: 70.0%, Epoch: 3, Datasets: 35000, Loss: 2.3062009811401367, Mean Loss: 2.3035869662826127\n",
      "Progress: 72.0%, Epoch: 3, Datasets: 36000, Loss: 2.3045713901519775, Mean Loss: 2.3036128721739115\n",
      "Progress: 73.0%, Epoch: 3, Datasets: 36500, Loss: 2.30429744720459, Mean Loss: 2.3036304253798265\n",
      "Progress: 74.0%, Epoch: 4, Datasets: 37000, Loss: 2.3035802841186523, Mean Loss: 2.3036291718482973\n",
      "Progress: 76.0%, Epoch: 4, Datasets: 38000, Loss: 2.300408124923706, Mean Loss: 2.3035506097281853\n",
      "Progress: 78.0%, Epoch: 4, Datasets: 39000, Loss: 2.3073196411132812, Mean Loss: 2.3036403485706876\n",
      "Progress: 80.0%, Epoch: 4, Datasets: 40000, Loss: 2.2986276149749756, Mean Loss: 2.303523773370787\n",
      "Progress: 82.0%, Epoch: 4, Datasets: 41000, Loss: 2.2969861030578613, Mean Loss: 2.3033751899545845\n",
      "Progress: 84.0%, Epoch: 4, Datasets: 42000, Loss: 2.3081955909729004, Mean Loss: 2.3034823099772135\n",
      "Progress: 86.0%, Epoch: 4, Datasets: 43000, Loss: 2.2992022037506104, Mean Loss: 2.3033892641896787\n",
      "Progress: 88.0%, Epoch: 4, Datasets: 44000, Loss: 2.310807466506958, Mean Loss: 2.303547098281536\n",
      "Progress: 90.0%, Epoch: 4, Datasets: 45000, Loss: 2.304887533187866, Mean Loss: 2.303575024008751\n",
      "Progress: 92.0%, Epoch: 4, Datasets: 46000, Loss: 2.3048439025878906, Mean Loss: 2.303600919489958\n",
      "Progress: 94.0%, Epoch: 4, Datasets: 47000, Loss: 2.302058458328247, Mean Loss: 2.3035700702667237\n",
      "Progress: 96.0%, Epoch: 4, Datasets: 48000, Loss: 2.30473256111145, Mean Loss: 2.3035928642048553\n",
      "Progress: 97.0%, Epoch: 4, Datasets: 48500, Loss: 2.296476364135742, Mean Loss: 2.3034560084342957\n",
      "Finished Training\n"
     ]
    },
    {
     "data": {
      "text/plain": "<Figure size 432x288 with 1 Axes>",
      "image/png": "[encoded data removed]"
     },
     "metadata": {
      "needs_background": "light"
     },
     "output_type": "display_data"
    }
   ],
   "source": [
    "#Import matplotlib to show the course of the loss\n",
    "import matplotlib.pyplot as plt\n",
    "\n",
    "#Two lists  only used for the plot and the statistics\n",
    "lossdata = []\n",
    "mean_lossdata = []\n",
    "\n",
    "#We have used 16 epochs, because we had the best results (actual >= 70% accuracy total) in dependence of the time the CNN needs to train (ca. 20min).\n",
    "epochs = 4\n",
    "\n",
    "for epoch in range(epochs):\n",
    "    for i, data in enumerate(trainloader, 0):\n",
    "        #\"Transport\" the data to CUDA if available, and otherwise to the CPU\n",
    "        image = data[0].to(device)\n",
    "        label = data[1].to(device)\n",
    "        \n",
    "        #Compute the forward propagation\n",
    "        output = net(image)\n",
    "        \n",
    "        #Compute the train loss\n",
    "        loss = criterion(output, label)\n",
    "        \n",
    "        #Reset gradient and execute backpropagation and optimization\n",
    "        optimizer.zero_grad()\n",
    "        loss.backward()\n",
    "        optimizer.step()\n",
    "        \n",
    "        #Print statistics\n",
    "        if ((i+1) % 1000 == 0) or ((i+1) % (50000/batch_size) == 0):\n",
    "            lossdata.append(loss.item())\n",
    "            mean_loss = sum(lossdata)/len(lossdata)\n",
    "            mean_lossdata.append(mean_loss)\n",
    "            \n",
    "            print(\"Progress: \" + str(round(((((i+1)+epoch*12000)*100)/((50000/batch_size)*epochs)), 2)) + \"%, Epoch: \" + str(epoch+1) \n",
    "                  + \", Datasets: \" + str((i+1)+epoch*12000) + \", Loss: \" + str(loss.item()) + \", Mean Loss: \" + str(mean_loss))\n",
    "\n",
    "\n",
    "print('Finished Training')\n",
    "\n",
    "#Plot the train loss function\n",
    "plt.title(\"Loss during the training of the CNN\")\n",
    "plt.plot(lossdata,'-b',label='Loss')\n",
    "plt.plot(mean_lossdata,'-r',label='Mean Loss')\n",
    "plt.xlabel('Number of datasets divided by 1000')\n",
    "plt.ylabel('Loss')\n",
    "plt.legend(loc='upper right')\n",
    "plt.show()\n"
   ]
  },
  {
   "cell_type": "markdown",
   "metadata": {
    "id": "aLlqZjZiA5nf"
   },
   "source": [
    "Code below generates the class wise accuracy of the model. You can use the results from the code below to decide the values of hyperparametrs."
   ]
  },
  {
   "cell_type": "code",
   "execution_count": 6,
   "metadata": {
    "colab": {
     "base_uri": "https://localhost:8080/"
    },
    "id": "ughmKpRj9nUu",
    "outputId": "fffdb66d-2876-4689-803e-e0412d7950a3"
   },
   "outputs": [
    {
     "name": "stderr",
     "output_type": "stream",
     "text": [
      "c:\\users\\chris\\appdata\\local\\programs\\python\\python37\\lib\\site-packages\\ipykernel_launcher.py:49: UserWarning: Implicit dimension choice for softmax has been deprecated. Change the call to include dim=X as an argument.\n"
     ]
    },
    {
     "name": "stdout",
     "output_type": "stream",
     "text": [
      "Accuracy of plane :  0 %\n",
      "Accuracy of   car :  0 %\n",
      "Accuracy of  bird :  0 %\n",
      "Accuracy of   cat :  0 %\n",
      "Accuracy of  deer :  0 %\n",
      "Accuracy of   dog :  0 %\n",
      "Accuracy of  frog : 100 %\n",
      "Accuracy of horse :  0 %\n",
      "Accuracy of  ship :  0 %\n",
      "Accuracy of truck :  0 %\n",
      " \n",
      "Accuracy total: 10.0%\n"
     ]
    }
   ],
   "source": [
    "\n",
    "class_correct = list(0. for i in range(10))\n",
    "class_total = list(0. for i in range(10))\n",
    "with torch.no_grad():\n",
    "    for data in testloader:\n",
    "        images, labels = data\n",
    "        \n",
    "        #We have set .cuda() to .to(device) because of the different systems we have used.\n",
    "        images = images.to(device)\n",
    "        labels = labels.to(device)\n",
    "        \n",
    "        outputs = net(images)\n",
    "        _, predicted = torch.max(outputs, 1)\n",
    "        c = (predicted == labels).squeeze()\n",
    "        for i in range(4):\n",
    "            label = labels[i]\n",
    "            class_correct[label] += c[i].item()\n",
    "            class_total[label] += 1\n",
    "\n",
    "\n",
    "total_class = 0\n",
    "for i in range(10):\n",
    "    print('Accuracy of %5s : %2d %%' % (\n",
    "        classes[i], 100 * class_correct[i] / class_total[i]))\n",
    "    total_class += class_correct[i]\n",
    "\n",
    "\n",
    "#We have added the value of the overall accuracy.\n",
    "total = 100 * total_class / (len(testloader)*batch_size)\n",
    "\n",
    "print(\" \")\n",
    "print('Accuracy total: ' + str(total) + '%')\n"
   ]
  },
  {
   "cell_type": "code",
   "execution_count": 6,
   "metadata": {
    "id": "ei4AsQ6_-TXW"
   },
   "outputs": [],
   "source": []
  }
 ],
 "metadata": {
  "accelerator": "GPU",
  "colab": {
   "collapsed_sections": [],
   "name": "CNN_intro.ipynb",
   "provenance": []
  },
  "kernelspec": {
   "display_name": "Python 3",
   "language": "python",
   "name": "python3"
  },
  "language_info": {
   "codemirror_mode": {
    "name": "ipython",
    "version": 3
   },
   "file_extension": ".py",
   "mimetype": "text/x-python",
   "name": "python",
   "nbconvert_exporter": "python",
   "pygments_lexer": "ipython3",
   "version": "3.8.5"
  }
 },
 "nbformat": 4,
 "nbformat_minor": 4
}