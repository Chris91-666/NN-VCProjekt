{
 "cells": [
  {
   "cell_type": "markdown",
   "metadata": {
    "id": "6GGdDzNp-gEg"
   },
   "source": [
    "# Assignment 9 (Exercise 9.3)\n",
    "\n",
    "## Simon Laurent Lebailly, 2549365, s9sileba@teams.uni-saarland.de\n",
    "## Christian Mathieu Schmidt, 2537621, s9cmscmi@teams.uni-saarland.de\n",
    "\n",
    "\n",
    "\n",
    "### In the lecture you have been introduced to VGG16. For this problem your task is to implement a VGG like CNN architecture for classification on the CIFAR10 dataset."
   ]
  },
  {
   "cell_type": "code",
   "execution_count": 128,
   "metadata": {
    "id": "BQs8RyYL9nUc"
   },
   "outputs": [],
   "source": [
    "import torch\n",
    "import torchvision\n",
    "import torchvision.transforms as transforms\n",
    "import torch.nn as nn\n",
    "import torch.nn.functional as F"
   ]
  },
  {
   "cell_type": "markdown",
   "metadata": {
    "id": "ZZ1AZfUD_HZ9"
   },
   "source": [
    "### 1. Load the dataset (0.5 point)\n",
    "To load the dataset, you can use the inbuilt dataloader for CIFAR10 provided in the torchvision package. Load both test set and trainset separately. Define the transformations you might need to load the data appropriately."
   ]
  },
  {
   "cell_type": "code",
   "execution_count": 129,
   "metadata": {
    "colab": {
     "base_uri": "https://localhost:8080/"
    },
    "id": "bOSZHQRT9nUr",
    "outputId": "d162efa6-ebb5-4bcc-93f5-3bd6f8779048"
   },
   "outputs": [
    {
     "name": "stdout",
     "output_type": "stream",
     "text": [
      "CUDA not available!\n",
      "Files already downloaded and verified\n",
      "Quantity training data: 50000\n",
      "Files already downloaded and verified\n",
      "Quantity test data: 10000\n"
     ]
    }
   ],
   "source": [
    "#Import datasets from torchvision to import the CIFAR10 dataset\n",
    "from torchvision import datasets\n",
    "\n",
    "\n",
    "#Check if CUDA is available, if not use the CPU. \n",
    "#We have worked on a PC (CUDA available) and a Macbook (CUDA not available), so we have used both.\n",
    "#Therefore we have implemented a case distinction, and we have modified the code where necessary.\n",
    "train_on_GPU = torch.cuda.is_available()\n",
    "device = torch.device('cuda' if train_on_GPU else 'cpu')\n",
    "\n",
    "if train_on_GPU:\n",
    "    print('CUDA available!')\n",
    "else:\n",
    "    print('CUDA not available!')\n",
    "\n",
    "\n",
    "#Hyperparameters:\n",
    "batch_size = 4\n",
    "learning_rate = 0.01\n",
    "\n",
    "\n",
    "\n",
    "transform = transforms.Compose([transforms.ToTensor(), transforms.Normalize((0.5,0.5,0.5), (0.5,0.5,0.5))])\n",
    "\n",
    "trainset = datasets.CIFAR10('data', train=True, download=True, transform=transform)\n",
    "quantity_train = len(trainset)\n",
    "print('Quantity training data: '+ str(quantity_train))\n",
    "\n",
    "trainloader = torch.utils.data.DataLoader(trainset, batch_size=batch_size, shuffle=True)\n",
    "\n",
    "\n",
    "testset = datasets.CIFAR10('data', train=False, download=True, transform=transform)\n",
    "quantity_test = len(testset)\n",
    "print('Quantity test data: '+ str(quantity_test))\n",
    "\n",
    "testloader = torch.utils.data.DataLoader(testset, batch_size=batch_size, shuffle=False)\n",
    "\n",
    "\n",
    "classes = ('plane', 'car', 'bird', 'cat',\n",
    "           'deer', 'dog', 'frog', 'horse', 'ship', 'truck')\n"
   ]
  },
  {
   "cell_type": "markdown",
   "metadata": {
    "id": "VGpxcaoc_te7"
   },
   "source": [
    "### Create the model architecture (1.0 point)\n",
    "Implement the class below such that the final architecture follows the same pattern of layers as VGG16."
   ]
  },
  {
   "cell_type": "code",
   "execution_count": 130,
   "metadata": {
    "id": "BeCGIwT99nUs"
   },
   "outputs": [],
   "source": [
    "class Net(nn.Module):\n",
    "    def __init__(self):\n",
    "        super(Net, self).__init__()\n",
    "        \n",
    "        #Pooling filter with size 2x2, to halve the size of the image\n",
    "        self.pool = nn.MaxPool2d(2,2)        \n",
    "        \n",
    "        #First VGG layer with two times Convolution and duplicating of the features\n",
    "        self.conv11 = nn.Conv2d(3,16,3)\n",
    "        self.conv12 = nn.Conv2d(16,16,3)\n",
    "        \n",
    "        #Second VGG layer with three times Convolution and duplicating of the features\n",
    "        self.conv21 = nn.Conv2d(16,32,3)\n",
    "        self.conv22 = nn.Conv2d(32,32,3)\n",
    "        self.conv23 = nn.Conv2d(32,32,3)\n",
    "        \n",
    "        #Third VGG layer with fully connected layers\n",
    "        self.fc1 = nn.Linear(32*4*4, 64)\n",
    "        self.fc2 = nn.Linear(64, 16)\n",
    "        self.fc3 = nn.Linear(16, 10)\n",
    "        \n",
    "\n",
    "    def forward(self, x):\n",
    "        #First VGG layer with two times Convolution + ReLu and duplicating of the features\n",
    "        #Pooling filter with size 2x2, to halve the size of the image, after the second convolution\n",
    "        out = F.relu(self.conv11(x))\n",
    "        out = self.pool(F.relu(self.conv12(out)))\n",
    "        \n",
    "        #Second VGG layer with three times Convolution + ReLu and duplicating of the features\n",
    "        #Pooling filter with size 2x2, to halve the size of the image, after the third convolution\n",
    "        out = F.relu(self.conv21(out))\n",
    "        out = F.relu(self.conv22(out))\n",
    "        out = self.pool(F.relu(self.conv23(out)))\n",
    "        \n",
    "        #Third VGG layer with fully connected layers\n",
    "        out = out.view(-1, 32*4*4)\n",
    "        out = F.relu(self.fc1(out))\n",
    "        out = F.relu(self.fc2(out))\n",
    "        out = self.fc3(out)\n",
    "        \n",
    "        #We don't use SOFTMAX in the forward process, because we use CrossEntropyLoss() as criterion\n",
    "        \n",
    "        return out\n",
    "\n",
    "\n",
    "net = Net().to(device)\n"
   ]
  },
  {
   "cell_type": "markdown",
   "metadata": {
    "id": "NbNC9ujQAJY6"
   },
   "source": [
    "### Loss function and optimizer (0.5 point)\n",
    "Define the loss function and optimizer to train the model."
   ]
  },
  {
   "cell_type": "code",
   "execution_count": 131,
   "metadata": {
    "id": "s5bALqHB9nUt"
   },
   "outputs": [],
   "source": [
    "criterion = nn.CrossEntropyLoss()\n",
    "optimizer = torch.optim.SGD(net.parameters(), lr=learning_rate)"
   ]
  },
  {
   "cell_type": "markdown",
   "metadata": {
    "id": "aWmCHNJSAUe1"
   },
   "source": [
    "### Train the model (1.0 point)"
   ]
  },
  {
   "cell_type": "code",
   "execution_count": 132,
   "metadata": {
    "colab": {
     "base_uri": "https://localhost:8080/"
    },
    "id": "pF7eNJ389nUt",
    "outputId": "6d295863-682c-4fa4-92b3-9040956f01a3"
   },
   "outputs": [
    {
     "name": "stdout",
     "output_type": "stream",
     "text": [
      "Progress: 0.5%, Epoch: 1, Datasets: 1000, Loss: 2.323392391204834, Mean Loss: 2.323392391204834\n",
      "Progress: 1.0%, Epoch: 1, Datasets: 2000, Loss: 2.309980630874634, Mean Loss: 2.316686511039734\n",
      "Progress: 1.5%, Epoch: 1, Datasets: 3000, Loss: 2.2914302349090576, Mean Loss: 2.3082677523295083\n",
      "Progress: 2.0%, Epoch: 1, Datasets: 4000, Loss: 2.295027017593384, Mean Loss: 2.3049575686454773\n",
      "Progress: 2.5%, Epoch: 1, Datasets: 5000, Loss: 2.308342456817627, Mean Loss: 2.305634546279907\n",
      "Progress: 3.0%, Epoch: 1, Datasets: 6000, Loss: 2.3049771785736084, Mean Loss: 2.305524984995524\n",
      "Progress: 3.5%, Epoch: 1, Datasets: 7000, Loss: 2.310007095336914, Mean Loss: 2.3061652864728654\n",
      "Progress: 4.0%, Epoch: 1, Datasets: 8000, Loss: 2.316352367401123, Mean Loss: 2.3074386715888977\n",
      "Progress: 4.5%, Epoch: 1, Datasets: 9000, Loss: 2.3493285179138184, Mean Loss: 2.3120930989583335\n",
      "Progress: 5.0%, Epoch: 1, Datasets: 10000, Loss: 1.6929268836975098, Mean Loss: 2.250176477432251\n",
      "Progress: 5.5%, Epoch: 1, Datasets: 11000, Loss: 2.0444841384887695, Mean Loss: 2.2314771738919346\n",
      "Progress: 6.0%, Epoch: 1, Datasets: 12000, Loss: 1.8230929374694824, Mean Loss: 2.1974451541900635\n",
      "Progress: 6.25%, Epoch: 1, Datasets: 12500, Loss: 1.8071616888046265, Mean Loss: 2.1674233491604147\n",
      "Progress: 6.5%, Epoch: 2, Datasets: 13000, Loss: 1.6417688131332397, Mean Loss: 2.129876596587045\n",
      "Progress: 7.0%, Epoch: 2, Datasets: 14000, Loss: 1.6583478450775146, Mean Loss: 2.0984413464864096\n",
      "Progress: 7.5%, Epoch: 2, Datasets: 15000, Loss: 1.8377466201782227, Mean Loss: 2.082147926092148\n",
      "Progress: 8.0%, Epoch: 2, Datasets: 16000, Loss: 1.7111397981643677, Mean Loss: 2.060323918566984\n",
      "Progress: 8.5%, Epoch: 2, Datasets: 17000, Loss: 1.462147831916809, Mean Loss: 2.0270919137530856\n",
      "Progress: 9.0%, Epoch: 2, Datasets: 18000, Loss: 1.0776755809783936, Mean Loss: 1.9771226330807334\n",
      "Progress: 9.5%, Epoch: 2, Datasets: 19000, Loss: 2.3556244373321533, Mean Loss: 1.9960477232933045\n",
      "Progress: 10.0%, Epoch: 2, Datasets: 20000, Loss: 2.8466796875, Mean Loss: 2.036554007303147\n",
      "Progress: 10.5%, Epoch: 2, Datasets: 21000, Loss: 1.1369359493255615, Mean Loss: 1.995662277395075\n",
      "Progress: 11.0%, Epoch: 2, Datasets: 22000, Loss: 1.4496232271194458, Mean Loss: 1.9719214491222217\n",
      "Progress: 11.5%, Epoch: 2, Datasets: 23000, Loss: 0.7494524121284485, Mean Loss: 1.920985239247481\n",
      "Progress: 12.0%, Epoch: 2, Datasets: 24000, Loss: 2.581782817840576, Mean Loss: 1.9474171423912048\n",
      "Progress: 12.25%, Epoch: 2, Datasets: 24500, Loss: 2.1771109104156494, Mean Loss: 1.9562515180844526\n",
      "Progress: 12.5%, Epoch: 3, Datasets: 25000, Loss: 0.890667200088501, Mean Loss: 1.9167854322327509\n",
      "Progress: 13.0%, Epoch: 3, Datasets: 26000, Loss: 0.9154387712478638, Mean Loss: 1.8810230514832906\n",
      "Progress: 13.5%, Epoch: 3, Datasets: 27000, Loss: 1.6991989612579346, Mean Loss: 1.874753255268623\n",
      "Progress: 14.0%, Epoch: 3, Datasets: 28000, Loss: 0.881320059299469, Mean Loss: 1.8416388154029846\n",
      "Progress: 14.5%, Epoch: 3, Datasets: 29000, Loss: 2.2773261070251465, Mean Loss: 1.8556932441649898\n",
      "Progress: 15.0%, Epoch: 3, Datasets: 30000, Loss: 1.550668478012085, Mean Loss: 1.8461612202227116\n",
      "Progress: 15.5%, Epoch: 3, Datasets: 31000, Loss: 0.8932386040687561, Mean Loss: 1.8172847773089553\n",
      "Progress: 16.0%, Epoch: 3, Datasets: 32000, Loss: 0.8091068863868713, Mean Loss: 1.7876324863994824\n",
      "Progress: 16.5%, Epoch: 3, Datasets: 33000, Loss: 1.264655590057373, Mean Loss: 1.7726902893611363\n",
      "Progress: 17.0%, Epoch: 3, Datasets: 34000, Loss: 1.0482101440429688, Mean Loss: 1.7525658408800762\n",
      "Progress: 17.5%, Epoch: 3, Datasets: 35000, Loss: 1.2097752094268799, Mean Loss: 1.7378958238137734\n",
      "Progress: 18.0%, Epoch: 3, Datasets: 36000, Loss: 1.06656813621521, Mean Loss: 1.7202293057190745\n",
      "Progress: 18.25%, Epoch: 3, Datasets: 36500, Loss: 2.6285159587860107, Mean Loss: 1.743518707079765\n",
      "Progress: 18.5%, Epoch: 4, Datasets: 37000, Loss: 0.7683677673339844, Mean Loss: 1.7191399335861206\n",
      "Progress: 19.0%, Epoch: 4, Datasets: 38000, Loss: 1.78114652633667, Mean Loss: 1.7206522895068657\n",
      "Progress: 19.5%, Epoch: 4, Datasets: 39000, Loss: 1.0496731996536255, Mean Loss: 1.7046765968913125\n",
      "Progress: 20.0%, Epoch: 4, Datasets: 40000, Loss: 1.9719018936157227, Mean Loss: 1.710891138675601\n",
      "Progress: 20.5%, Epoch: 4, Datasets: 41000, Loss: 1.100594401359558, Mean Loss: 1.6970207582820545\n",
      "Progress: 21.0%, Epoch: 4, Datasets: 42000, Loss: 1.750267505645752, Mean Loss: 1.698204019334581\n",
      "Progress: 21.5%, Epoch: 4, Datasets: 43000, Loss: 0.8753042221069336, Mean Loss: 1.680314893307893\n",
      "Progress: 22.0%, Epoch: 4, Datasets: 44000, Loss: 0.8406487703323364, Mean Loss: 1.6624496566488387\n",
      "Progress: 22.5%, Epoch: 4, Datasets: 45000, Loss: 1.5402777194976807, Mean Loss: 1.6599044079581897\n",
      "Progress: 23.0%, Epoch: 4, Datasets: 46000, Loss: 2.193284273147583, Mean Loss: 1.6707897113294017\n",
      "Progress: 23.5%, Epoch: 4, Datasets: 47000, Loss: 1.4724894762039185, Mean Loss: 1.666823706626892\n",
      "Progress: 24.0%, Epoch: 4, Datasets: 48000, Loss: 0.5173901319503784, Mean Loss: 1.644285793397941\n",
      "Progress: 24.25%, Epoch: 4, Datasets: 48500, Loss: 0.983528196811676, Mean Loss: 1.6315789165405126\n",
      "Progress: 24.5%, Epoch: 5, Datasets: 49000, Loss: 0.9084610939025879, Mean Loss: 1.6179351840379104\n",
      "Progress: 25.0%, Epoch: 5, Datasets: 50000, Loss: 0.3478476405143738, Mean Loss: 1.59441504434303\n",
      "Progress: 25.5%, Epoch: 5, Datasets: 51000, Loss: 0.19661636650562286, Mean Loss: 1.5690005229278043\n",
      "Progress: 26.0%, Epoch: 5, Datasets: 52000, Loss: 1.1120957136154175, Mean Loss: 1.5608415084757976\n",
      "Progress: 26.5%, Epoch: 5, Datasets: 53000, Loss: 1.3718090057373047, Mean Loss: 1.557525148778631\n",
      "Progress: 27.0%, Epoch: 5, Datasets: 54000, Loss: 1.0646092891693115, Mean Loss: 1.549026599475022\n",
      "Progress: 27.5%, Epoch: 5, Datasets: 55000, Loss: 0.9911150932312012, Mean Loss: 1.5395704722505505\n",
      "Progress: 28.0%, Epoch: 5, Datasets: 56000, Loss: 0.3775922358036041, Mean Loss: 1.520204168309768\n",
      "Progress: 28.5%, Epoch: 5, Datasets: 57000, Loss: 1.925610065460205, Mean Loss: 1.5268501666237095\n",
      "Progress: 29.0%, Epoch: 5, Datasets: 58000, Loss: 1.316873550415039, Mean Loss: 1.5234634470074409\n",
      "Progress: 29.5%, Epoch: 5, Datasets: 59000, Loss: 1.5119444131851196, Mean Loss: 1.5232806052007373\n",
      "Progress: 30.0%, Epoch: 5, Datasets: 60000, Loss: 1.6425068378448486, Mean Loss: 1.5251435150858015\n",
      "Progress: 30.25%, Epoch: 5, Datasets: 60500, Loss: 1.1253960132598877, Mean Loss: 1.518993553519249\n",
      "Progress: 30.5%, Epoch: 6, Datasets: 61000, Loss: 0.8398598432540894, Mean Loss: 1.5087036488182617\n",
      "Progress: 31.0%, Epoch: 6, Datasets: 62000, Loss: 1.3408862352371216, Mean Loss: 1.5061989113021252\n",
      "Progress: 31.5%, Epoch: 6, Datasets: 63000, Loss: 1.3199727535247803, Mean Loss: 1.5034602913348114\n",
      "Progress: 32.0%, Epoch: 6, Datasets: 64000, Loss: 0.4383290410041809, Mean Loss: 1.4880236065474108\n",
      "Progress: 32.5%, Epoch: 6, Datasets: 65000, Loss: 1.1553219556808472, Mean Loss: 1.4832707258207458\n",
      "Progress: 33.0%, Epoch: 6, Datasets: 66000, Loss: 0.8273612856864929, Mean Loss: 1.4740325646920942\n",
      "Progress: 33.5%, Epoch: 6, Datasets: 67000, Loss: 0.6080543398857117, Mean Loss: 1.4620050893475611\n",
      "Progress: 34.0%, Epoch: 6, Datasets: 68000, Loss: 1.2902692556381226, Mean Loss: 1.4596525436803087\n",
      "Progress: 34.5%, Epoch: 6, Datasets: 69000, Loss: 1.7394846677780151, Mean Loss: 1.4634340588708181\n",
      "Progress: 35.0%, Epoch: 6, Datasets: 70000, Loss: 1.398110270500183, Mean Loss: 1.4625630750258765\n",
      "Progress: 35.5%, Epoch: 6, Datasets: 71000, Loss: 0.5307588577270508, Mean Loss: 1.450302493219313\n",
      "Progress: 36.0%, Epoch: 6, Datasets: 72000, Loss: 0.9748166799545288, Mean Loss: 1.4441273527873026\n",
      "Progress: 36.25%, Epoch: 6, Datasets: 72500, Loss: 0.9255788326263428, Mean Loss: 1.4374792948365211\n",
      "Progress: 36.5%, Epoch: 7, Datasets: 73000, Loss: 0.5261139869689941, Mean Loss: 1.4259430251166791\n",
      "Progress: 37.0%, Epoch: 7, Datasets: 74000, Loss: 1.2045538425445557, Mean Loss: 1.4231756603345276\n",
      "Progress: 37.5%, Epoch: 7, Datasets: 75000, Loss: 1.1432242393493652, Mean Loss: 1.4197194699519946\n",
      "Progress: 38.0%, Epoch: 7, Datasets: 76000, Loss: 0.06727290153503418, Mean Loss: 1.4032262191176414\n",
      "Progress: 38.5%, Epoch: 7, Datasets: 77000, Loss: 0.749030351638794, Mean Loss: 1.3953443411962096\n",
      "Progress: 39.0%, Epoch: 7, Datasets: 78000, Loss: 0.7077386379241943, Mean Loss: 1.3871585590143998\n",
      "Progress: 39.5%, Epoch: 7, Datasets: 79000, Loss: 0.7609840631484985, Mean Loss: 1.3797918002395069\n",
      "Progress: 40.0%, Epoch: 7, Datasets: 80000, Loss: 0.8387898206710815, Mean Loss: 1.3735010795468507\n",
      "Progress: 40.5%, Epoch: 7, Datasets: 81000, Loss: 1.0745108127593994, Mean Loss: 1.3700644098136616\n",
      "Progress: 41.0%, Epoch: 7, Datasets: 82000, Loss: 1.155087947845459, Mean Loss: 1.3676214954731138\n",
      "Progress: 41.5%, Epoch: 7, Datasets: 83000, Loss: 1.6535636186599731, Mean Loss: 1.37083432831791\n",
      "Progress: 42.0%, Epoch: 7, Datasets: 84000, Loss: 1.4688868522644043, Mean Loss: 1.3719238008062045\n",
      "Progress: 42.25%, Epoch: 7, Datasets: 84500, Loss: 1.2255711555480957, Mean Loss: 1.3703155299791923\n",
      "Progress: 42.5%, Epoch: 8, Datasets: 85000, Loss: 0.6357735395431519, Mean Loss: 1.3623313779092354\n",
      "Progress: 43.0%, Epoch: 8, Datasets: 86000, Loss: 0.08698582649230957, Mean Loss: 1.348617984883247\n",
      "Progress: 43.5%, Epoch: 8, Datasets: 87000, Loss: 0.8279732465744019, Mean Loss: 1.3430792110714507\n",
      "Progress: 44.0%, Epoch: 8, Datasets: 88000, Loss: 1.0832936763763428, Mean Loss: 1.3403446264957126\n",
      "Progress: 44.5%, Epoch: 8, Datasets: 89000, Loss: 0.062030814588069916, Mean Loss: 1.3270288576216747\n",
      "Progress: 45.0%, Epoch: 8, Datasets: 90000, Loss: 0.799514889717102, Mean Loss: 1.3215905692927616\n",
      "Progress: 45.5%, Epoch: 8, Datasets: 91000, Loss: 0.9065259099006653, Mean Loss: 1.3173552156254953\n",
      "Progress: 46.0%, Epoch: 8, Datasets: 92000, Loss: 0.4911460280418396, Mean Loss: 1.3090096682761654\n",
      "Progress: 46.5%, Epoch: 8, Datasets: 93000, Loss: 0.2805406451225281, Mean Loss: 1.298724978044629\n",
      "Progress: 47.0%, Epoch: 8, Datasets: 94000, Loss: 0.8312405943870544, Mean Loss: 1.2940964197905938\n",
      "Progress: 47.5%, Epoch: 8, Datasets: 95000, Loss: 0.6350059509277344, Mean Loss: 1.2876347485272324\n",
      "Progress: 48.0%, Epoch: 8, Datasets: 96000, Loss: 0.742624819278717, Mean Loss: 1.282343389990839\n",
      "Progress: 48.25%, Epoch: 8, Datasets: 96500, Loss: 0.44217023253440857, Mean Loss: 1.2742648019383733\n",
      "Progress: 48.5%, Epoch: 9, Datasets: 97000, Loss: 0.795960545539856, Mean Loss: 1.2697095233060065\n",
      "Progress: 49.0%, Epoch: 9, Datasets: 98000, Loss: 0.6659035682678223, Mean Loss: 1.2640132407113067\n",
      "Progress: 49.5%, Epoch: 9, Datasets: 99000, Loss: 0.34760868549346924, Mean Loss: 1.2554487121578688\n",
      "Progress: 50.0%, Epoch: 9, Datasets: 100000, Loss: 0.7843061089515686, Mean Loss: 1.2510862806466994\n",
      "Progress: 50.5%, Epoch: 9, Datasets: 101000, Loss: 0.518740713596344, Mean Loss: 1.2443675139765127\n",
      "Progress: 51.0%, Epoch: 9, Datasets: 102000, Loss: 0.661890983581543, Mean Loss: 1.2390722727911039\n",
      "Progress: 51.5%, Epoch: 9, Datasets: 103000, Loss: 1.560207724571228, Mean Loss: 1.2419653849693033\n",
      "Progress: 52.0%, Epoch: 9, Datasets: 104000, Loss: 1.3525569438934326, Mean Loss: 1.2429528096025544\n",
      "Progress: 52.5%, Epoch: 9, Datasets: 105000, Loss: 0.3581649363040924, Mean Loss: 1.2351228284229219\n",
      "Progress: 53.0%, Epoch: 9, Datasets: 106000, Loss: 0.11234161257743835, Mean Loss: 1.2252738703891897\n",
      "Progress: 53.5%, Epoch: 9, Datasets: 107000, Loss: 0.6381875872612, Mean Loss: 1.2201687722750332\n",
      "Progress: 54.0%, Epoch: 9, Datasets: 108000, Loss: 0.7016465663909912, Mean Loss: 1.2156987532587915\n",
      "Progress: 54.25%, Epoch: 9, Datasets: 108500, Loss: 1.141018271446228, Mean Loss: 1.2150604585424447\n",
      "Progress: 54.5%, Epoch: 10, Datasets: 109000, Loss: 0.41309279203414917, Mean Loss: 1.2082641223855948\n",
      "Progress: 55.0%, Epoch: 10, Datasets: 110000, Loss: 0.1539962738752365, Mean Loss: 1.1994047287006337\n",
      "Progress: 55.5%, Epoch: 10, Datasets: 111000, Loss: 0.07911667972803116, Mean Loss: 1.1900689949591954\n",
      "Progress: 56.0%, Epoch: 10, Datasets: 112000, Loss: 0.6736067533493042, Mean Loss: 1.185800711970684\n",
      "Progress: 56.5%, Epoch: 10, Datasets: 113000, Loss: 0.4430978298187256, Mean Loss: 1.1797129834284548\n",
      "Progress: 57.0%, Epoch: 10, Datasets: 114000, Loss: 0.31224238872528076, Mean Loss: 1.1726603769674533\n",
      "Progress: 57.5%, Epoch: 10, Datasets: 115000, Loss: 0.24985970556735992, Mean Loss: 1.1652184360690656\n",
      "Progress: 58.0%, Epoch: 10, Datasets: 116000, Loss: 0.6131179928779602, Mean Loss: 1.1608016325235366\n",
      "Progress: 58.5%, Epoch: 10, Datasets: 117000, Loss: 0.8890705108642578, Mean Loss: 1.1586450363198917\n",
      "Progress: 59.0%, Epoch: 10, Datasets: 118000, Loss: 0.6209186911582947, Mean Loss: 1.1544109706099577\n",
      "Progress: 59.5%, Epoch: 10, Datasets: 119000, Loss: 0.5107583403587341, Mean Loss: 1.14938243443612\n",
      "Progress: 60.0%, Epoch: 10, Datasets: 120000, Loss: 0.20083747804164886, Mean Loss: 1.1420293727586435\n",
      "Progress: 60.25%, Epoch: 10, Datasets: 120500, Loss: 0.7061501741409302, Mean Loss: 1.1386764558461997\n",
      "Progress: 60.5%, Epoch: 11, Datasets: 121000, Loss: 2.182272434234619, Mean Loss: 1.146642837360615\n",
      "Progress: 61.0%, Epoch: 11, Datasets: 122000, Loss: 0.1263672411441803, Mean Loss: 1.1389134767832179\n",
      "Progress: 61.5%, Epoch: 11, Datasets: 123000, Loss: 0.3013628423213959, Mean Loss: 1.1326161035917754\n",
      "Progress: 62.0%, Epoch: 11, Datasets: 124000, Loss: 1.127719521522522, Mean Loss: 1.1325795619345422\n",
      "Progress: 62.5%, Epoch: 11, Datasets: 125000, Loss: 0.33636146783828735, Mean Loss: 1.1266816501264219\n",
      "Progress: 63.0%, Epoch: 11, Datasets: 126000, Loss: 1.1348586082458496, Mean Loss: 1.1267417748184765\n",
      "Progress: 63.5%, Epoch: 11, Datasets: 127000, Loss: 0.746512770652771, Mean Loss: 1.123966380627486\n",
      "Progress: 64.0%, Epoch: 11, Datasets: 128000, Loss: 0.6442949771881104, Mean Loss: 1.120490500892418\n",
      "Progress: 64.5%, Epoch: 11, Datasets: 129000, Loss: 0.27775052189826965, Mean Loss: 1.1144276233456976\n",
      "Progress: 65.0%, Epoch: 11, Datasets: 130000, Loss: 0.12888570129871368, Mean Loss: 1.107388038188219\n",
      "Progress: 65.5%, Epoch: 11, Datasets: 131000, Loss: 1.002718210220337, Mean Loss: 1.106645698982773\n",
      "Progress: 66.0%, Epoch: 11, Datasets: 132000, Loss: 0.9817861914634705, Mean Loss: 1.105766406676299\n",
      "Progress: 66.25%, Epoch: 11, Datasets: 132500, Loss: 0.3529660701751709, Mean Loss: 1.1005020686588087\n",
      "Progress: 66.5%, Epoch: 12, Datasets: 133000, Loss: 0.2845889925956726, Mean Loss: 1.0948360056305926\n",
      "Progress: 67.0%, Epoch: 12, Datasets: 134000, Loss: 1.0805482864379883, Mean Loss: 1.0947374696361607\n",
      "Progress: 67.5%, Epoch: 12, Datasets: 135000, Loss: 0.18320831656455994, Mean Loss: 1.0884941192726567\n",
      "Progress: 68.0%, Epoch: 12, Datasets: 136000, Loss: 0.5842675566673279, Mean Loss: 1.0850640066018722\n",
      "Progress: 68.5%, Epoch: 12, Datasets: 137000, Loss: 0.8790004849433899, Mean Loss: 1.0836716855095851\n",
      "Progress: 69.0%, Epoch: 12, Datasets: 138000, Loss: 1.372477650642395, Mean Loss: 1.0856099805775905\n",
      "Progress: 69.5%, Epoch: 12, Datasets: 139000, Loss: 0.4328386187553406, Mean Loss: 1.0812581714987755\n",
      "Progress: 70.0%, Epoch: 12, Datasets: 140000, Loss: 0.5522027015686035, Mean Loss: 1.0777544928899665\n",
      "Progress: 70.5%, Epoch: 12, Datasets: 141000, Loss: 1.2532306909561157, Mean Loss: 1.0789089415614541\n",
      "Progress: 71.0%, Epoch: 12, Datasets: 142000, Loss: 0.6871570348739624, Mean Loss: 1.0763484715831046\n",
      "Progress: 71.5%, Epoch: 12, Datasets: 143000, Loss: 0.2089119851589203, Mean Loss: 1.0707157671258047\n",
      "Progress: 72.0%, Epoch: 12, Datasets: 144000, Loss: 0.3678097724914551, Mean Loss: 1.066180889741067\n",
      "Progress: 72.25%, Epoch: 12, Datasets: 144500, Loss: 1.7033324241638184, Mean Loss: 1.0702651944489052\n",
      "Progress: 72.5%, Epoch: 13, Datasets: 145000, Loss: 0.8594493865966797, Mean Loss: 1.0689224186027126\n",
      "Progress: 73.0%, Epoch: 13, Datasets: 146000, Loss: 1.0577306747436523, Mean Loss: 1.0688515847808198\n",
      "Progress: 73.5%, Epoch: 13, Datasets: 147000, Loss: 0.140532448887825, Mean Loss: 1.0630130996494174\n",
      "Progress: 74.0%, Epoch: 13, Datasets: 148000, Loss: 0.09849991649389267, Mean Loss: 1.0569848922546954\n",
      "Progress: 74.5%, Epoch: 13, Datasets: 149000, Loss: 0.9011520147323608, Mean Loss: 1.056016986183128\n",
      "Progress: 75.0%, Epoch: 13, Datasets: 150000, Loss: 0.3439905345439911, Mean Loss: 1.0516217611730099\n",
      "Progress: 75.5%, Epoch: 13, Datasets: 151000, Loss: 1.1516202688217163, Mean Loss: 1.0522352489499958\n",
      "Progress: 76.0%, Epoch: 13, Datasets: 152000, Loss: 0.7348841428756714, Mean Loss: 1.0503001812300303\n",
      "Progress: 76.5%, Epoch: 13, Datasets: 153000, Loss: 0.2742226719856262, Mean Loss: 1.0455966811740036\n",
      "Progress: 77.0%, Epoch: 13, Datasets: 154000, Loss: 1.6090545654296875, Mean Loss: 1.0489910057779537\n",
      "Progress: 77.5%, Epoch: 13, Datasets: 155000, Loss: 1.7756319046020508, Mean Loss: 1.0533421488846848\n",
      "Progress: 78.0%, Epoch: 13, Datasets: 156000, Loss: 1.1214238405227661, Mean Loss: 1.053747397049197\n",
      "Progress: 78.25%, Epoch: 13, Datasets: 156500, Loss: 1.5146450996398926, Mean Loss: 1.0564746023899705\n",
      "Progress: 78.5%, Epoch: 14, Datasets: 157000, Loss: 1.349888801574707, Mean Loss: 1.0582005682675277\n",
      "Progress: 79.0%, Epoch: 14, Datasets: 158000, Loss: 0.2561420202255249, Mean Loss: 1.053510167401785\n",
      "Progress: 79.5%, Epoch: 14, Datasets: 159000, Loss: 2.1117587089538574, Mean Loss: 1.0596627752015064\n",
      "Progress: 80.0%, Epoch: 14, Datasets: 160000, Loss: 0.4575546979904175, Mean Loss: 1.0561823816916156\n",
      "Progress: 80.5%, Epoch: 14, Datasets: 161000, Loss: 0.7404215931892395, Mean Loss: 1.0543676645163147\n",
      "Progress: 81.0%, Epoch: 14, Datasets: 162000, Loss: 0.1810092329978943, Mean Loss: 1.049377044907638\n",
      "Progress: 81.5%, Epoch: 14, Datasets: 163000, Loss: 0.8635374307632446, Mean Loss: 1.0483211380090902\n",
      "Progress: 82.0%, Epoch: 14, Datasets: 164000, Loss: 0.0023394543677568436, Mean Loss: 1.0424116369715686\n",
      "Progress: 82.5%, Epoch: 14, Datasets: 165000, Loss: 1.1299984455108643, Mean Loss: 1.0429036976936996\n",
      "Progress: 83.0%, Epoch: 14, Datasets: 166000, Loss: 0.2657562494277954, Mean Loss: 1.0385620918374654\n",
      "Progress: 83.5%, Epoch: 14, Datasets: 167000, Loss: 0.8457909226417542, Mean Loss: 1.0374911408974892\n",
      "Progress: 84.0%, Epoch: 14, Datasets: 168000, Loss: 1.0309858322143555, Mean Loss: 1.0374551999655381\n",
      "Progress: 84.25%, Epoch: 14, Datasets: 168500, Loss: 0.023146115243434906, Mean Loss: 1.0318820731264058\n",
      "Progress: 84.5%, Epoch: 15, Datasets: 169000, Loss: 0.6331548690795898, Mean Loss: 1.029703235945822\n",
      "Progress: 85.0%, Epoch: 15, Datasets: 170000, Loss: 1.0890814065933228, Mean Loss: 1.0300259433949932\n",
      "Progress: 85.5%, Epoch: 15, Datasets: 171000, Loss: 0.006897058337926865, Mean Loss: 1.0244955169892795\n",
      "Progress: 86.0%, Epoch: 15, Datasets: 172000, Loss: 0.07559686154127121, Mean Loss: 1.0193939113148278\n",
      "Progress: 86.5%, Epoch: 15, Datasets: 173000, Loss: 0.3253414034843445, Mean Loss: 1.0156824005777663\n",
      "Progress: 87.0%, Epoch: 15, Datasets: 174000, Loss: 0.8538700342178345, Mean Loss: 1.0148216965013837\n",
      "Progress: 87.5%, Epoch: 15, Datasets: 175000, Loss: 0.3851461708545685, Mean Loss: 1.01149007996357\n",
      "Progress: 88.0%, Epoch: 15, Datasets: 176000, Loss: 0.8275307416915894, Mean Loss: 1.0105218729200331\n",
      "Progress: 88.5%, Epoch: 15, Datasets: 177000, Loss: 1.1897993087768555, Mean Loss: 1.0114604982386552\n",
      "Progress: 89.0%, Epoch: 15, Datasets: 178000, Loss: 0.5458241701126099, Mean Loss: 1.0090353090296655\n",
      "Progress: 89.5%, Epoch: 15, Datasets: 179000, Loss: 0.380201518535614, Mean Loss: 1.0057771028613025\n",
      "Progress: 90.0%, Epoch: 15, Datasets: 180000, Loss: 0.768928050994873, Mean Loss: 1.0045562314599292\n",
      "Progress: 90.25%, Epoch: 15, Datasets: 180500, Loss: 1.161109209060669, Mean Loss: 1.005359067242497\n",
      "Progress: 90.5%, Epoch: 16, Datasets: 181000, Loss: 0.42908865213394165, Mean Loss: 1.0024189120633717\n",
      "Progress: 91.0%, Epoch: 16, Datasets: 182000, Loss: 0.10376278311014175, Mean Loss: 0.9978572058250305\n",
      "Progress: 91.5%, Epoch: 16, Datasets: 183000, Loss: 0.16695599257946014, Mean Loss: 0.993660735051063\n",
      "Progress: 92.0%, Epoch: 16, Datasets: 184000, Loss: 0.3793095350265503, Mean Loss: 0.9905735430911408\n",
      "Progress: 92.5%, Epoch: 16, Datasets: 185000, Loss: 0.7593866586685181, Mean Loss: 0.9894176086690277\n",
      "Progress: 93.0%, Epoch: 16, Datasets: 186000, Loss: 0.6219454407691956, Mean Loss: 0.9875893889282324\n",
      "Progress: 93.5%, Epoch: 16, Datasets: 187000, Loss: 0.5725015997886658, Mean Loss: 0.9855344988829872\n",
      "Progress: 94.0%, Epoch: 16, Datasets: 188000, Loss: 1.1433221101760864, Mean Loss: 0.9863117777563521\n",
      "Progress: 94.5%, Epoch: 16, Datasets: 189000, Loss: 0.452350914478302, Mean Loss: 0.9836943225442049\n",
      "Progress: 95.0%, Epoch: 16, Datasets: 190000, Loss: 1.0511430501937866, Mean Loss: 0.9840233407278614\n",
      "Progress: 95.5%, Epoch: 16, Datasets: 191000, Loss: 1.409794807434082, Mean Loss: 0.9860901925079886\n",
      "Progress: 96.0%, Epoch: 16, Datasets: 192000, Loss: 0.07366862148046494, Mean Loss: 0.9816823588315271\n",
      "Progress: 96.25%, Epoch: 16, Datasets: 192500, Loss: 0.00035137764643877745, Mean Loss: 0.9769644214219835\n",
      "Finished Training\n"
     ]
    },
    {
     "data": {
      "image/png": "[encoded data removed]",
      "text/plain": [
       "<Figure size 432x288 with 1 Axes>"
      ]
     },
     "metadata": {
      "needs_background": "light"
     },
     "output_type": "display_data"
    }
   ],
   "source": [
    "#Import matplotlib to show the course of the loss\n",
    "import matplotlib.pyplot as plt\n",
    "\n",
    "#Two lists  only used for the plot and the statistics\n",
    "lossdata = []\n",
    "mean_lossdata = []\n",
    "\n",
    "#We have used 16 epochs, because we had the best results (actual >= 70% accuracy total) in dependence of the time the CNN needs to train (ca. 20min).\n",
    "epochs = 16\n",
    "\n",
    "for epoch in range(epochs):\n",
    "    for i, data in enumerate(trainloader, 0):\n",
    "        #\"Transport\" the data to CUDA if available, and otherwise to the CPU\n",
    "        image = data[0].to(device)\n",
    "        label = data[1].to(device)\n",
    "        \n",
    "        #Compute the forward propagation\n",
    "        output = net(image)\n",
    "        \n",
    "        #Compute the train loss\n",
    "        loss = criterion(output, label)\n",
    "        \n",
    "        #Reset gradient and execute backpropagation and optimization\n",
    "        optimizer.zero_grad()\n",
    "        loss.backward()\n",
    "        optimizer.step()\n",
    "        \n",
    "        #Print statistics\n",
    "        if ((i+1) % 1000 == 0) or ((i+1) % (50000/batch_size) == 0):\n",
    "            lossdata.append(loss.item())\n",
    "            mean_loss = sum(lossdata)/len(lossdata)\n",
    "            mean_lossdata.append(mean_loss)\n",
    "            \n",
    "            print(\"Progress: \" + str(round(((((i+1)+epoch*12000)*100)/((50000/batch_size)*epochs)), 2)) + \"%, Epoch: \" + str(epoch+1) \n",
    "                  + \", Datasets: \" + str((i+1)+epoch*12000) + \", Loss: \" + str(loss.item()) + \", Mean Loss: \" + str(mean_loss))\n",
    "\n",
    "\n",
    "print('Finished Training')\n",
    "\n",
    "#Plot the train loss function\n",
    "plt.title(\"Loss during the training of the CNN\")\n",
    "plt.plot(lossdata,'-b',label='Loss')\n",
    "plt.plot(mean_lossdata,'-r',label='Mean Loss')\n",
    "plt.xlabel('Number of datasets divided by 1000')\n",
    "plt.ylabel('Loss')\n",
    "plt.legend(loc='upper right')\n",
    "plt.show()\n"
   ]
  },
  {
   "cell_type": "markdown",
   "metadata": {
    "id": "aLlqZjZiA5nf"
   },
   "source": [
    "Code below generates the class wise accuracy of the model. You can use the results from the code below to decide the values of hyperparametrs."
   ]
  },
  {
   "cell_type": "code",
   "execution_count": 133,
   "metadata": {
    "colab": {
     "base_uri": "https://localhost:8080/"
    },
    "id": "ughmKpRj9nUu",
    "outputId": "fffdb66d-2876-4689-803e-e0412d7950a3"
   },
   "outputs": [
    {
     "name": "stdout",
     "output_type": "stream",
     "text": [
      "Accuracy of plane : 65 %\n",
      "Accuracy of   car : 78 %\n",
      "Accuracy of  bird : 54 %\n",
      "Accuracy of   cat : 45 %\n",
      "Accuracy of  deer : 75 %\n",
      "Accuracy of   dog : 57 %\n",
      "Accuracy of  frog : 79 %\n",
      "Accuracy of horse : 75 %\n",
      "Accuracy of  ship : 87 %\n",
      "Accuracy of truck : 83 %\n",
      " \n",
      "Accuracy total: 70.31%\n"
     ]
    }
   ],
   "source": [
    "\n",
    "class_correct = list(0. for i in range(10))\n",
    "class_total = list(0. for i in range(10))\n",
    "with torch.no_grad():\n",
    "    for data in testloader:\n",
    "        images, labels = data\n",
    "        \n",
    "        #We have set .cuda() to .to(device) because of the different systems we have used.\n",
    "        images = images.to(device)\n",
    "        labels = labels.to(device)\n",
    "        \n",
    "        outputs = net(images)\n",
    "        _, predicted = torch.max(outputs, 1)\n",
    "        c = (predicted == labels).squeeze()\n",
    "        for i in range(4):\n",
    "            label = labels[i]\n",
    "            class_correct[label] += c[i].item()\n",
    "            class_total[label] += 1\n",
    "\n",
    "\n",
    "total_class = 0\n",
    "for i in range(10):\n",
    "    print('Accuracy of %5s : %2d %%' % (\n",
    "        classes[i], 100 * class_correct[i] / class_total[i]))\n",
    "    total_class += class_correct[i]\n",
    "\n",
    "\n",
    "#We have added the value of the overall accuracy.\n",
    "total = 100 * total_class / (len(testloader)*batch_size)\n",
    "\n",
    "print(\" \")\n",
    "print('Accuracy total: ' + str(total) + '%')\n"
   ]
  },
  {
   "cell_type": "code",
   "execution_count": null,
   "metadata": {
    "id": "ei4AsQ6_-TXW"
   },
   "outputs": [],
   "source": []
  }
 ],
 "metadata": {
  "accelerator": "GPU",
  "colab": {
   "collapsed_sections": [],
   "name": "CNN_intro.ipynb",
   "provenance": []
  },
  "kernelspec": {
   "display_name": "Python 3",
   "language": "python",
   "name": "python3"
  },
  "language_info": {
   "codemirror_mode": {
    "name": "ipython",
    "version": 3
   },
   "file_extension": ".py",
   "mimetype": "text/x-python",
   "name": "python",
   "nbconvert_exporter": "python",
   "pygments_lexer": "ipython3",
   "version": "3.8.5"
  }
 },
 "nbformat": 4,
 "nbformat_minor": 4
}