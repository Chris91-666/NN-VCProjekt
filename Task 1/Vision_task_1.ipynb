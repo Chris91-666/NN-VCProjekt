{
 "cells": [
  {
   "cell_type": "markdown",
   "metadata": {},
   "source": [
    "# Image Segmentation Task 1\n",
    "#### Welcome to the first task of Image Segmentation. Image segmentation is the process of partitioning the image into a set of pixels representing an object. In this task, you will be introduced to the problem of image segmentation and programming pipeline involved in image segmentation."
   ]
  },
  {
   "cell_type": "markdown",
   "metadata": {},
   "source": [
    "For the purpose of this task we will be using PASCAL VOC datset. The dataset contains a total of 2913 images with segmentation annotations. Code in the cell below will download the code and extract the dataset."
   ]
  },
  {
   "cell_type": "code",
   "execution_count": 143,
   "metadata": {
    "colab": {
     "base_uri": "https://localhost:8080/"
    },
    "executionInfo": {
     "elapsed": 216508,
     "status": "ok",
     "timestamp": 1610647557551,
     "user": {
      "displayName": "dikshant gupta",
      "photoUrl": "https://lh3.googleusercontent.com/a-/AOh14GjGExYbOwwSrmoe8LVKyI5XQQl2f1k4HbD2Vx5Vpg=s64",
      "userId": "01845807612441668603"
     },
     "user_tz": -60
    },
    "id": "zM_t4c-S3k31",
    "outputId": "b960fc6f-f665-42c4-db32-1b6ced9dfb60"
   },
   "outputs": [],
   "source": [
    "#!wget http://host.robots.ox.ac.uk/pascal/VOC/voc2012/VOCtrainval_11-May-2012.tar\n",
    "#!tar -xvf VOCtrainval_11-May-2012.tar"
   ]
  },
  {
   "cell_type": "code",
   "execution_count": 144,
   "metadata": {
    "colab": {
     "base_uri": "https://localhost:8080/"
    },
    "executionInfo": {
     "elapsed": 255947,
     "status": "ok",
     "timestamp": 1610647598272,
     "user": {
      "displayName": "dikshant gupta",
      "photoUrl": "https://lh3.googleusercontent.com/a-/AOh14GjGExYbOwwSrmoe8LVKyI5XQQl2f1k4HbD2Vx5Vpg=s64",
      "userId": "01845807612441668603"
     },
     "user_tz": -60
    },
    "id": "6lvs9XIpBaI0",
    "outputId": "40b9ac25-7e3b-47ae-b396-dc3dcb21b608"
   },
   "outputs": [],
   "source": [
    "#!pip install scipy==1.1.0"
   ]
  },
  {
   "cell_type": "markdown",
   "metadata": {},
   "source": [
    "### 1.1 Loading the dataset"
   ]
  },
  {
   "cell_type": "code",
   "execution_count": 145,
   "metadata": {
    "executionInfo": {
     "elapsed": 259698,
     "status": "ok",
     "timestamp": 1610647602623,
     "user": {
      "displayName": "dikshant gupta",
      "photoUrl": "https://lh3.googleusercontent.com/a-/AOh14GjGExYbOwwSrmoe8LVKyI5XQQl2f1k4HbD2Vx5Vpg=s64",
      "userId": "01845807612441668603"
     },
     "user_tz": -60
    },
    "id": "qunDv45j24Mg"
   },
   "outputs": [],
   "source": [
    "import os\n",
    "from os.path import join as pjoin\n",
    "import collections\n",
    "import json\n",
    "import torch\n",
    "import imageio\n",
    "import numpy as np\n",
    "import scipy.misc as m\n",
    "import scipy.io as io\n",
    "import matplotlib.pyplot as plt\n",
    "import glob\n",
    "\n",
    "from PIL import Image\n",
    "from tqdm import tqdm\n",
    "from torch.utils import data\n",
    "from torchvision import transforms\n",
    "\n",
    "\n",
    "class pascalVOCDataset(data.Dataset):\n",
    "    \"\"\"Data loader for the Pascal VOC semantic segmentation dataset.\n",
    "\n",
    "    Annotations from both the original VOC data (which consist of RGB images\n",
    "    in which colours map to specific classes) and the SBD (Berkely) dataset\n",
    "    (where annotations are stored as .mat files) are converted into a common\n",
    "    `label_mask` format.  Under this format, each mask is an (M,N) array of\n",
    "    integer values from 0 to 21, where 0 represents the background class.\n",
    "\n",
    "    The label masks are stored in a new folder, called `pre_encoded`, which\n",
    "    is added as a subdirectory of the `SegmentationClass` folder in the\n",
    "    original Pascal VOC data layout.\n",
    "\n",
    "    A total of five data splits are provided for working with the VOC data:\n",
    "        train: The original VOC 2012 training data - 1464 images\n",
    "        val: The original VOC 2012 validation data - 1449 images\n",
    "        trainval: The combination of `train` and `val` - 2913 images\n",
    "        train_aug: The unique images present in both the train split and\n",
    "                   training images from SBD: - 8829 images (the unique members\n",
    "                   of the result of combining lists of length 1464 and 8498)\n",
    "        train_aug_val: The original VOC 2012 validation data minus the images\n",
    "                   present in `train_aug` (This is done with the same logic as\n",
    "                   the validation set used in FCN PAMI paper, but with VOC 2012\n",
    "                   rather than VOC 2011) - 904 images\n",
    "    \"\"\"\n",
    "\n",
    "    def __init__(\n",
    "        self,\n",
    "        root,\n",
    "        sbd_path=None,\n",
    "        split=\"train_aug\",\n",
    "        is_transform=False,\n",
    "        img_size=512,\n",
    "        augmentations=None,\n",
    "        img_norm=True,\n",
    "        test_mode=False,\n",
    "    ):\n",
    "        self.root = root\n",
    "        self.sbd_path = sbd_path\n",
    "        self.split = split\n",
    "        self.is_transform = is_transform\n",
    "        self.augmentations = augmentations\n",
    "        self.img_norm = img_norm\n",
    "        self.test_mode = test_mode\n",
    "        self.n_classes = 21\n",
    "        self.mean = np.array([104.00699, 116.66877, 122.67892])\n",
    "        self.files = collections.defaultdict(list)\n",
    "        self.img_size = img_size if isinstance(img_size, tuple) else (img_size, img_size)\n",
    "\n",
    "        if not self.test_mode:\n",
    "            for split in [\"train\", \"val\", \"trainval\"]:\n",
    "                print(split)\n",
    "                path = pjoin(self.root, \"ImageSets/Segmentation\", split + \".txt\")\n",
    "                print(path)\n",
    "                file_list = tuple(open(path, \"r\"))\n",
    "                #print(file_list)\n",
    "                file_list = [id_.rstrip() for id_ in file_list]\n",
    "                self.files[split] = file_list\n",
    "            self.setup_annotations()\n",
    "\n",
    "        self.tf = transforms.Compose(\n",
    "            [\n",
    "                # add more trasnformations as you see fit\n",
    "                transforms.ToTensor(),\n",
    "                #transforms.Resize(256),\n",
    "                #transforms.CenterCrop(256),\n",
    "                transforms.Normalize([0.485, 0.456, 0.406], [0.229, 0.224, 0.225]),\n",
    "            ]\n",
    "        )\n",
    "\n",
    "    def __len__(self):\n",
    "        return len(self.files[self.split])\n",
    "\n",
    "    def __getitem__(self, index):\n",
    "        im_name = self.files[self.split][index]\n",
    "        im_path = pjoin(self.root, \"JPEGImages\", im_name + \".jpg\")\n",
    "        lbl_path = pjoin(self.root, \"SegmentationClass/pre_encoded\", im_name + \".png\")\n",
    "        im = Image.open(im_path)\n",
    "        lbl = Image.open(lbl_path)\n",
    "        if self.augmentations is not None:\n",
    "            im, lbl = self.augmentations(im, lbl)\n",
    "        if self.is_transform:\n",
    "            im, lbl = self.transform(im, lbl)\n",
    "        return im, torch.clamp(lbl, max=20)\n",
    "\n",
    "\n",
    "    def transform(self, img, lbl):\n",
    "        if self.img_size == (\"same\", \"same\"):\n",
    "            pass\n",
    "        else:\n",
    "            img = img.resize((self.img_size[0], self.img_size[1]))  # uint8 with RGB mode\n",
    "            lbl = lbl.resize((self.img_size[0], self.img_size[1]))\n",
    "        img = self.tf(img)\n",
    "        #print(img)\n",
    "        lbl = torch.from_numpy(np.array(lbl)).long()\n",
    "        #print(lbl)\n",
    "        lbl[lbl == 255] = 0\n",
    "        #print(lbl)\n",
    "        return img, lbl\n",
    "\n",
    "    def get_pascal_labels(self):\n",
    "        \"\"\"Load the mapping that associates pascal classes with label colors\n",
    "\n",
    "        Returns:\n",
    "            np.ndarray with dimensions (21, 3)\n",
    "        \"\"\"\n",
    "        return np.asarray(\n",
    "            [\n",
    "                [0, 0, 0],\n",
    "                [128, 0, 0],\n",
    "                [0, 128, 0],\n",
    "                [128, 128, 0],\n",
    "                [0, 0, 128],\n",
    "                [128, 0, 128],\n",
    "                [0, 128, 128],\n",
    "                [128, 128, 128],\n",
    "                [64, 0, 0],\n",
    "                [192, 0, 0],\n",
    "                [64, 128, 0],\n",
    "                [192, 128, 0],\n",
    "                [64, 0, 128],\n",
    "                [192, 0, 128],\n",
    "                [64, 128, 128],\n",
    "                [192, 128, 128],\n",
    "                [0, 64, 0],\n",
    "                [128, 64, 0],\n",
    "                [0, 192, 0],\n",
    "                [128, 192, 0],\n",
    "                [0, 64, 128],\n",
    "            ]\n",
    "        )\n",
    "\n",
    "    def encode_segmap(self, mask):\n",
    "        \"\"\"Encode segmentation label images as pascal classes\n",
    "\n",
    "        Args:\n",
    "            mask (np.ndarray): raw segmentation label image of dimension\n",
    "              (M, N, 3), in which the Pascal classes are encoded as colours.\n",
    "\n",
    "        Returns:\n",
    "            (np.ndarray): class map with dimensions (M,N), where the value at\n",
    "            a given location is the integer denoting the class index.\n",
    "        \"\"\"\n",
    "        mask = mask.astype(int)\n",
    "        label_mask = np.zeros((mask.shape[0], mask.shape[1]), dtype=np.int16)\n",
    "        for ii, label in enumerate(self.get_pascal_labels()):\n",
    "            label_mask[np.where(np.all(mask == label, axis=-1))[:2]] = ii\n",
    "        label_mask = label_mask.astype(int)\n",
    "        # print(np.unique(label_mask))\n",
    "        return label_mask\n",
    "\n",
    "    def decode_segmap(self, label_mask, plot=False):\n",
    "        \"\"\"Decode segmentation class labels into a color image\n",
    "\n",
    "        Args:\n",
    "            label_mask (np.ndarray): an (M,N) array of integer values denoting\n",
    "              the class label at each spatial location.\n",
    "            plot (bool, optional): whether to show the resulting color image\n",
    "              in a figure.\n",
    "\n",
    "        Returns:\n",
    "            (np.ndarray, optional): the resulting decoded color image.\n",
    "        \"\"\"\n",
    "        label_colours = self.get_pascal_labels()\n",
    "        r = label_mask.copy()\n",
    "        g = label_mask.copy()\n",
    "        b = label_mask.copy()\n",
    "        for ll in range(0, self.n_classes):\n",
    "            r[label_mask == ll] = label_colours[ll, 0]\n",
    "            g[label_mask == ll] = label_colours[ll, 1]\n",
    "            b[label_mask == ll] = label_colours[ll, 2]\n",
    "        rgb = np.zeros((label_mask.shape[0], label_mask.shape[1], 3))\n",
    "        rgb[:, :, 0] = r / 255.0\n",
    "        rgb[:, :, 1] = g / 255.0\n",
    "        rgb[:, :, 2] = b / 255.0\n",
    "        if plot:\n",
    "            plt.imshow(rgb)\n",
    "            plt.show()\n",
    "        else:\n",
    "            return rgb\n",
    "\n",
    "    def setup_annotations(self):\n",
    "        \"\"\"Sets up Berkley annotations by adding image indices to the\n",
    "        `train_aug` split and pre-encode all segmentation labels into the\n",
    "        common label_mask format (if this has not already been done). This\n",
    "        function also defines the `train_aug` and `train_aug_val` data splits\n",
    "        according to the description in the class docstring\n",
    "        \"\"\"\n",
    "        sbd_path = self.sbd_path\n",
    "        target_path = pjoin(self.root, \"SegmentationClass/pre_encoded\")\n",
    "        if not os.path.exists(target_path):\n",
    "            os.makedirs(target_path)\n",
    "        train_aug = self.files[\"train\"]\n",
    "\n",
    "        # keep unique elements (stable)\n",
    "        train_aug = [train_aug[i] for i in sorted(np.unique(train_aug, return_index=True)[1])]\n",
    "        self.files[\"train_aug\"] = train_aug\n",
    "        set_diff = set(self.files[\"val\"]) - set(train_aug)  # remove overlap\n",
    "        self.files[\"train_aug_val\"] = list(set_diff)\n",
    "\n",
    "        pre_encoded = glob.glob(pjoin(target_path, \"*.png\"))\n",
    "        expected = np.unique(self.files[\"train_aug\"] + self.files[\"val\"]).size\n",
    "\n",
    "        if len(pre_encoded) != expected:\n",
    "            print(\"Pre-encoding segmentation masks...\")\n",
    "\n",
    "            for ii in tqdm(self.files[\"trainval\"]):\n",
    "                fname = ii + \".png\"\n",
    "                lbl_path = pjoin(self.root, \"SegmentationClass\", fname)\n",
    "                lbl = self.encode_segmap(m.imread(lbl_path))\n",
    "                lbl = m.toimage(lbl, high=lbl.max(), low=lbl.min())\n",
    "                m.imsave(pjoin(target_path, fname), lbl)\n",
    "\n",
    "        assert expected == 2913, \"unexpected dataset sizes\""
   ]
  },
  {
   "cell_type": "markdown",
   "metadata": {},
   "source": [
    "### 1.2 Define the model architecture(2.0 point)\n",
    "In this section you have the freedom to decide your own model. Keep in mind though, to perform image segmentation, you need to implement an architecture that does pixel level classification i.e. for each pixel in the image you need to predict the probability of it belonging to one of the 21 categories."
   ]
  },
  {
   "cell_type": "code",
   "execution_count": 146,
   "metadata": {
    "executionInfo": {
     "elapsed": 258581,
     "status": "ok",
     "timestamp": 1610647602625,
     "user": {
      "displayName": "dikshant gupta",
      "photoUrl": "https://lh3.googleusercontent.com/a-/AOh14GjGExYbOwwSrmoe8LVKyI5XQQl2f1k4HbD2Vx5Vpg=s64",
      "userId": "01845807612441668603"
     },
     "user_tz": -60
    },
    "id": "CatAsvH3GTXs"
   },
   "outputs": [
    {
     "name": "stdout",
     "output_type": "stream",
     "text": [
      "CUDA available!\n"
     ]
    }
   ],
   "source": [
    "import torch.nn as nn\n",
    "import torch.nn.functional as F\n",
    "\n",
    "#Check if CUDA is available, if not use the CPU. \n",
    "train_on_GPU = torch.cuda.is_available()\n",
    "device = torch.device('cuda' if train_on_GPU else 'cpu')\n",
    "\n",
    "if train_on_GPU:\n",
    "    print('CUDA available!')\n",
    "else:\n",
    "    print('CUDA not available!')\n",
    "\n",
    "\n",
    "\n",
    "class Segnet(nn.Module):\n",
    "    def __init__(self):\n",
    "        super(Segnet, self).__init__()\n",
    "        #define the layers for your model\n",
    "\n",
    "        #Pooling filter with size 2x2, to halve the size of the image\n",
    "        self.pool = nn.MaxPool2d(2,2)        \n",
    "\n",
    "        #First VGG layer with two times Convolution and duplicating of the features\n",
    "        self.conv11 = nn.Conv2d(3,16,3)\n",
    "        self.conv12 = nn.Conv2d(16,16,3)\n",
    "\n",
    "        #Second VGG layer with three times Convolution and duplicating of the features\n",
    "        self.conv21 = nn.Conv2d(16,32,3)\n",
    "        self.conv22 = nn.Conv2d(32,32,3)\n",
    "        self.conv23 = nn.Conv2d(32,32,3)\n",
    "\n",
    "        #Third VGG layer with fully connected layers\n",
    "        self.fc1 = nn.Linear(32*4*4, 64)\n",
    "        self.fc2 = nn.Linear(64, 16)\n",
    "        self.fc3 = nn.Linear(16, 10)\n",
    "\n",
    "        #Output with Softmax because of lossfunction cross entropy\n",
    "        self.out = nn.Softmax(dim=3)\n",
    "\n",
    "    \n",
    "    def forward(self, x):\n",
    "        print(x)\n",
    "        print(x.size())\n",
    "        #define the forward pass\n",
    "        output = F.relu(self.pool(x))\n",
    "        output = self.out(x)\n",
    "        return output\n",
    "    "
   ]
  },
  {
   "cell_type": "code",
   "execution_count": 147,
   "metadata": {
    "executionInfo": {
     "elapsed": 11035,
     "status": "ok",
     "timestamp": 1610647664665,
     "user": {
      "displayName": "dikshant gupta",
      "photoUrl": "https://lh3.googleusercontent.com/a-/AOh14GjGExYbOwwSrmoe8LVKyI5XQQl2f1k4HbD2Vx5Vpg=s64",
      "userId": "01845807612441668603"
     },
     "user_tz": -60
    },
    "id": "QfQiOnEkGZat"
   },
   "outputs": [
    {
     "name": "stdout",
     "output_type": "stream",
     "text": [
      "Segnet(\n",
      "  (pool): MaxPool2d(kernel_size=2, stride=2, padding=0, dilation=1, ceil_mode=False)\n",
      "  (conv11): Conv2d(3, 16, kernel_size=(3, 3), stride=(1, 1))\n",
      "  (conv12): Conv2d(16, 16, kernel_size=(3, 3), stride=(1, 1))\n",
      "  (conv21): Conv2d(16, 32, kernel_size=(3, 3), stride=(1, 1))\n",
      "  (conv22): Conv2d(32, 32, kernel_size=(3, 3), stride=(1, 1))\n",
      "  (conv23): Conv2d(32, 32, kernel_size=(3, 3), stride=(1, 1))\n",
      "  (fc1): Linear(in_features=512, out_features=64, bias=True)\n",
      "  (fc2): Linear(in_features=64, out_features=16, bias=True)\n",
      "  (fc3): Linear(in_features=16, out_features=10, bias=True)\n",
      "  (out): Softmax(dim=3)\n",
      ")\n"
     ]
    }
   ],
   "source": [
    "# Creating an instance of the model defined above. \n",
    "# You can modify it incase you need to pass paratemers to the constructor.\n",
    "model = Segnet().to(device)\n",
    "print(model)"
   ]
  },
  {
   "cell_type": "markdown",
   "metadata": {},
   "source": [
    "### 1.3 Hyperparameters(0.5 points)\n",
    "Define all the hyperparameters(not restricted to the three given below) that you find useful here."
   ]
  },
  {
   "cell_type": "code",
   "execution_count": 148,
   "metadata": {},
   "outputs": [],
   "source": [
    "local_path = 'VOCdevkit/VOC2012/' # modify it according to your device\n",
    "bs = 64\n",
    "epochs = 10\n",
    "learning_rate = 0.01"
   ]
  },
  {
   "cell_type": "markdown",
   "metadata": {},
   "source": [
    "### 1.4 Dataset and Dataloader(0.5 points)\n",
    "Create the dataset using pascalVOCDataset class defined above. Use local_path defined in the cell above as root. "
   ]
  },
  {
   "cell_type": "code",
   "execution_count": 149,
   "metadata": {},
   "outputs": [
    {
     "name": "stdout",
     "output_type": "stream",
     "text": [
      "train\n",
      "VOCdevkit/VOC2012/ImageSets/Segmentation\\train.txt\n",
      "val\n",
      "VOCdevkit/VOC2012/ImageSets/Segmentation\\val.txt\n",
      "trainval\n",
      "VOCdevkit/VOC2012/ImageSets/Segmentation\\trainval.txt\n",
      "<__main__.pascalVOCDataset object at 0x000002014F7B06C8>\n",
      "<torch.utils.data.dataloader.DataLoader object at 0x000002014F7B0E08>\n"
     ]
    }
   ],
   "source": [
    "# dataset variable\n",
    "dst = pascalVOCDataset(root=local_path,is_transform=True)\n",
    "print(dst)\n",
    "# dataloader variable\n",
    "trainloader = data.DataLoader(dst,batch_size=bs,shuffle=True)\n",
    "print(trainloader)"
   ]
  },
  {
   "cell_type": "markdown",
   "metadata": {},
   "source": [
    "### 1.5 Loss fuction and Optimizer(1.0 point)\n",
    "Define below with the loss function you think would be most suitable for segmentation task. You are free to choose any optimizer to train the network."
   ]
  },
  {
   "cell_type": "code",
   "execution_count": 150,
   "metadata": {},
   "outputs": [],
   "source": [
    "# loss function\n",
    "loss_f = nn.CrossEntropyLoss()\n",
    "\n",
    "# optimizer variable\n",
    "opt = torch.optim.SGD(model.parameters(), lr=learning_rate)"
   ]
  },
  {
   "cell_type": "markdown",
   "metadata": {},
   "source": [
    "### 1.6 Training the model(3.0 points)\n",
    "Your task here is to complete the code below to perform a training loop and save the model weights after each epoch of training."
   ]
  },
  {
   "cell_type": "code",
   "execution_count": 151,
   "metadata": {
    "id": "Xz08hSdPKODm"
   },
   "outputs": [
    {
     "name": "stdout",
     "output_type": "stream",
     "text": [
      "<bound method Module.parameters of Segnet(\n",
      "  (pool): MaxPool2d(kernel_size=2, stride=2, padding=0, dilation=1, ceil_mode=False)\n",
      "  (conv11): Conv2d(3, 16, kernel_size=(3, 3), stride=(1, 1))\n",
      "  (conv12): Conv2d(16, 16, kernel_size=(3, 3), stride=(1, 1))\n",
      "  (conv21): Conv2d(16, 32, kernel_size=(3, 3), stride=(1, 1))\n",
      "  (conv22): Conv2d(32, 32, kernel_size=(3, 3), stride=(1, 1))\n",
      "  (conv23): Conv2d(32, 32, kernel_size=(3, 3), stride=(1, 1))\n",
      "  (fc1): Linear(in_features=512, out_features=64, bias=True)\n",
      "  (fc2): Linear(in_features=64, out_features=16, bias=True)\n",
      "  (fc3): Linear(in_features=16, out_features=10, bias=True)\n",
      "  (out): Softmax(dim=3)\n",
      ")>\n",
      "tensor([[[[ 1.3927,  1.4612,  1.4612,  ..., -0.9363, -0.9877, -1.0562],\n",
      "          [ 1.4269,  1.4954,  1.4954,  ..., -0.9534, -1.0048, -1.0562],\n",
      "          [ 1.4783,  1.4783,  1.4783,  ..., -0.9534, -0.9877, -1.0219],\n",
      "          ...,\n",
      "          [-1.7925, -1.8268, -1.8953,  ..., -0.5253, -0.5082, -0.5082],\n",
      "          [-1.8097, -1.8097, -1.8782,  ..., -0.5082, -0.4911, -0.5253],\n",
      "          [-1.8439, -1.8097, -1.8439,  ..., -0.4739, -0.4739, -0.5082]],\n",
      "\n",
      "         [[ 1.2206,  1.3782,  1.4132,  ..., -0.7927, -0.8102, -0.7927],\n",
      "          [ 1.3782,  1.4482,  1.4307,  ..., -0.7927, -0.7927, -0.7927],\n",
      "          [ 1.5182,  1.4832,  1.4482,  ..., -0.7927, -0.7927, -0.8102],\n",
      "          ...,\n",
      "          [-1.5980, -1.6155, -1.6681,  ...,  0.0826,  0.1176,  0.0826],\n",
      "          [-1.6506, -1.6155, -1.6331,  ...,  0.1001,  0.1176,  0.0651],\n",
      "          [-1.6856, -1.6155, -1.5980,  ...,  0.1001,  0.1001,  0.0476]],\n",
      "\n",
      "         [[ 1.4200,  1.4374,  1.3502,  ..., -0.5844, -0.6018, -0.5844],\n",
      "          [ 1.4548,  1.4722,  1.3677,  ..., -0.5844, -0.5844, -0.5844],\n",
      "          [ 1.4722,  1.4548,  1.3851,  ..., -0.5670, -0.5670, -0.5844],\n",
      "          ...,\n",
      "          [-1.3687, -1.3861, -1.4384,  ...,  0.8971,  0.9145,  0.9319],\n",
      "          [-1.4036, -1.3861, -1.4210,  ...,  0.9319,  0.9494,  0.9668],\n",
      "          [-1.4384, -1.3861, -1.3861,  ...,  0.9319,  0.9668,  0.9668]]],\n",
      "\n",
      "\n",
      "        [[[-1.8782, -1.7754, -2.0152,  ..., -1.9980, -1.9980, -1.9980],\n",
      "          [-1.7412, -1.7925, -1.7925,  ..., -1.9980, -1.9980, -1.9980],\n",
      "          [-1.7925, -1.8439, -1.7240,  ..., -1.9980, -1.9980, -1.9980],\n",
      "          ...,\n",
      "          [-0.9534, -1.0390, -0.7479,  ...,  0.9303,  1.0159,  1.0673],\n",
      "          [-0.8335, -1.0562, -1.0048,  ...,  0.9988,  1.0673,  1.1187],\n",
      "          [-0.7479, -1.0219, -1.1418,  ...,  1.0331,  1.1187,  1.1700]],\n",
      "\n",
      "         [[-1.8081, -1.7031, -1.9482,  ..., -1.9132, -1.9132, -1.9132],\n",
      "          [-1.6681, -1.7206, -1.7206,  ..., -1.9132, -1.9132, -1.9132],\n",
      "          [-1.7206, -1.7731, -1.6506,  ..., -1.9132, -1.9132, -1.9132],\n",
      "          ...,\n",
      "          [-1.4230, -1.4580, -1.0378,  ..., -0.1975, -0.1275, -0.0749],\n",
      "          [-1.3880, -1.5455, -1.3529,  ..., -0.1625, -0.0924, -0.0399],\n",
      "          [-1.3529, -1.5455, -1.5455,  ..., -0.1625, -0.0749, -0.0049]],\n",
      "\n",
      "         [[-1.6127, -1.5081, -1.7522,  ..., -1.7173, -1.7173, -1.7173],\n",
      "          [-1.4733, -1.5256, -1.5256,  ..., -1.7173, -1.7173, -1.7173],\n",
      "          [-1.5256, -1.5779, -1.4559,  ..., -1.7173, -1.7173, -1.7173],\n",
      "          ...,\n",
      "          [-1.2293, -1.1770, -0.5670,  ..., -0.1661, -0.0964, -0.0441],\n",
      "          [-1.1944, -1.2641, -0.8981,  ..., -0.1312, -0.0615, -0.0092],\n",
      "          [-1.1944, -1.2816, -1.0898,  ..., -0.1138, -0.0267, -0.0092]]],\n",
      "\n",
      "\n",
      "        [[[-1.0219, -0.3369,  0.0398,  ...,  0.0398,  0.1254, -0.0116],\n",
      "          [-0.9020,  0.0227, -0.1143,  ...,  0.0741,  0.1426, -0.0801],\n",
      "          [-0.6623,  0.3481, -0.3198,  ..., -0.0458,  0.1939, -0.1486],\n",
      "          ...,\n",
      "          [-0.2342, -0.2342, -0.2856,  ..., -1.4500, -1.5357, -1.5699],\n",
      "          [-0.2856, -0.3369, -0.4054,  ..., -1.4329, -1.4500, -1.4843],\n",
      "          [-0.3883, -0.4568, -0.5253,  ..., -1.4329, -1.3473, -1.3302]],\n",
      "\n",
      "         [[-1.0378, -0.0224,  0.3277,  ...,  0.1527,  0.5553,  0.3627],\n",
      "          [-0.8978,  0.2752,  0.1527,  ...,  0.2402,  0.6078,  0.3978],\n",
      "          [-0.7402,  0.5378,  0.0126,  ...,  0.0826,  0.5903,  0.4153],\n",
      "          ...,\n",
      "          [-0.1099, -0.0749, -0.0749,  ..., -1.4230, -1.5280, -1.5105],\n",
      "          [-0.1975, -0.1099, -0.0574,  ..., -1.4580, -1.4930, -1.4755],\n",
      "          [-0.3025, -0.1450, -0.0749,  ..., -1.4930, -1.4405, -1.3529]],\n",
      "\n",
      "         [[-1.1421, -0.0964,  0.7228,  ...,  0.6531,  1.2457,  1.1934],\n",
      "          [-1.0027,  0.1825,  0.4439,  ...,  0.6879,  1.2631,  1.1934],\n",
      "          [-0.8110,  0.5136,  0.4439,  ...,  0.5485,  1.2631,  1.1585],\n",
      "          ...,\n",
      "          [ 0.2522,  0.2348,  0.3045,  ..., -1.2467, -1.2990, -1.3861],\n",
      "          [ 0.1825,  0.1825,  0.2696,  ..., -1.2467, -1.2641, -1.3513],\n",
      "          [ 0.0082,  0.0431,  0.1651,  ..., -1.2467, -1.2293, -1.2816]]],\n",
      "\n",
      "\n",
      "        ...,\n",
      "\n",
      "\n",
      "        [[[-2.0665, -2.1179, -2.1179,  ..., -2.1179, -2.1179, -2.1179],\n",
      "          [-2.0837, -0.1143, -0.1143,  ..., -0.0972, -0.1657, -2.1008],\n",
      "          [-2.1179,  2.2489,  2.2489,  ...,  2.2489,  2.2489, -2.1008],\n",
      "          ...,\n",
      "          [-2.1179,  2.2489,  2.2489,  ..., -0.3027,  0.1254, -1.8610],\n",
      "          [-2.1179, -0.1486, -0.0972,  ..., -1.1418, -1.0219, -1.9124],\n",
      "          [-2.1008, -2.1179, -2.1179,  ..., -1.8097, -2.1008, -1.9295]],\n",
      "\n",
      "         [[-2.0357, -2.0357, -2.0357,  ..., -2.0357, -2.0357, -2.0357],\n",
      "          [-2.0182,  0.0126,  0.0476,  ...,  0.0301,  0.0126, -2.0357],\n",
      "          [-2.0007,  2.4286,  2.4286,  ...,  2.4286,  2.4286, -2.0357],\n",
      "          ...,\n",
      "          [-2.0357,  2.4286,  2.4286,  ..., -0.7227, -0.1099, -2.0357],\n",
      "          [-2.0182, -0.0049,  0.0476,  ..., -1.4405, -1.1429, -2.0007],\n",
      "          [-2.0007, -2.0357, -2.0357,  ..., -2.0357, -2.0357, -1.9832]],\n",
      "\n",
      "         [[-1.7696, -1.8044, -1.8044,  ..., -1.8044, -1.8044, -1.7173],\n",
      "          [-1.7522,  0.1999,  0.1128,  ...,  0.1128,  0.1999, -1.7173],\n",
      "          [-1.7347,  2.5703,  2.3786,  ...,  2.3960,  2.6051, -1.7347],\n",
      "          ...,\n",
      "          [-1.7522,  2.6400,  2.6400,  ..., -0.7064, -0.0092, -1.8044],\n",
      "          [-1.7347,  0.2348,  0.2696,  ..., -1.3339, -0.9678, -1.7870],\n",
      "          [-1.7347, -1.8044, -1.8044,  ..., -1.8044, -1.8044, -1.7870]]],\n",
      "\n",
      "\n",
      "        [[[ 0.7933,  0.8447,  0.8618,  ...,  1.3584,  1.3242,  1.3070],\n",
      "          [ 0.7933,  0.8276,  0.8447,  ...,  1.3413,  1.3242,  1.3070],\n",
      "          [ 0.8276,  0.8104,  0.8276,  ...,  1.3242,  1.3070,  1.2899],\n",
      "          ...,\n",
      "          [-0.4568, -0.4739, -0.4397,  ..., -0.0972, -0.6452, -0.3541],\n",
      "          [-0.4739, -0.5082, -0.4911,  ..., -0.4739, -0.5596, -0.4397],\n",
      "          [-0.4911, -0.5596, -0.5253,  ..., -0.6452, -0.4568, -0.5424]],\n",
      "\n",
      "         [[ 1.7808,  1.7808,  1.7808,  ...,  1.6408,  1.6408,  1.6232],\n",
      "          [ 1.7633,  1.7633,  1.7633,  ...,  1.6408,  1.6408,  1.6232],\n",
      "          [ 1.7633,  1.7633,  1.7458,  ...,  1.6408,  1.6232,  1.6057],\n",
      "          ...,\n",
      "          [ 0.0476,  0.0301,  0.0651,  ..., -0.2150, -0.3550, -0.2500],\n",
      "          [ 0.0476, -0.0399,  0.0476,  ..., -0.5476, -0.1975, -0.2675],\n",
      "          [ 0.0476, -0.1275,  0.0126,  ..., -0.5826, -0.1450, -0.2675]],\n",
      "\n",
      "         [[ 2.6400,  2.6400,  2.6400,  ...,  2.1694,  2.1520,  2.1346],\n",
      "          [ 2.6051,  2.6226,  2.6226,  ...,  2.1694,  2.1520,  2.1346],\n",
      "          [ 2.5703,  2.6051,  2.6051,  ...,  2.1520,  2.1346,  2.1171],\n",
      "          ...,\n",
      "          [ 0.9494,  0.9319,  0.9668,  ...,  0.4614,  0.1825,  0.3393],\n",
      "          [ 0.9494,  0.8622,  0.9319,  ...,  0.1128,  0.3219,  0.3045],\n",
      "          [ 0.9319,  0.8099,  0.8971,  ...,  0.0431,  0.3916,  0.2871]]],\n",
      "\n",
      "\n",
      "        [[[ 0.6392,  0.5022,  0.5536,  ...,  2.2489,  2.2318,  2.2489],\n",
      "          [ 0.5536,  0.4337,  0.4508,  ...,  2.2318,  2.2147,  2.2318],\n",
      "          [ 0.5022,  0.3823,  0.3994,  ...,  2.2147,  2.1975,  2.2147],\n",
      "          ...,\n",
      "          [-0.9192, -1.0390, -0.9363,  ..., -0.5596, -0.6965, -0.4568],\n",
      "          [-0.7650, -1.0219, -0.8678,  ..., -0.5082, -0.7650, -0.4226],\n",
      "          [-0.6281, -1.0048, -0.7479,  ..., -0.3883, -0.5424, -0.3541]],\n",
      "\n",
      "         [[ 0.2227,  0.0651,  0.0651,  ...,  2.0259,  1.9909,  1.9909],\n",
      "          [ 0.1527, -0.0049, -0.0049,  ...,  1.9909,  1.9909,  1.9734],\n",
      "          [ 0.1001, -0.0399, -0.0224,  ...,  1.9559,  1.9559,  1.9909],\n",
      "          ...,\n",
      "          [-0.8277, -0.9503, -0.8627,  ..., -0.4076, -0.5476, -0.3025],\n",
      "          [-0.6702, -0.9328, -0.7927,  ..., -0.3550, -0.6176, -0.2675],\n",
      "          [-0.5126, -0.8978, -0.6527,  ..., -0.2325, -0.3901, -0.1975]],\n",
      "\n",
      "         [[ 0.1999,  0.0256,  0.0431,  ...,  1.1585,  1.1585,  1.2108],\n",
      "          [ 0.0779, -0.0441, -0.0267,  ...,  1.0714,  1.0888,  1.1411],\n",
      "          [ 0.0082, -0.0964, -0.0790,  ...,  0.9494,  0.9842,  1.0365],\n",
      "          ...,\n",
      "          [-0.9678, -1.0898, -1.0201,  ..., -0.4275, -0.5670, -0.3230],\n",
      "          [-0.8284, -1.0898, -0.9678,  ..., -0.3753, -0.6367, -0.2881],\n",
      "          [-0.7064, -1.0898, -0.8284,  ..., -0.2532, -0.4101, -0.2184]]]],\n",
      "       device='cuda:0')\n",
      "torch.Size([64, 3, 512, 512])\n"
     ]
    },
    {
     "ename": "RuntimeError",
     "evalue": "element 0 of tensors does not require grad and does not have a grad_fn",
     "output_type": "error",
     "traceback": [
      "\u001B[1;31m---------------------------------------------------------------------------\u001B[0m",
      "\u001B[1;31mRuntimeError\u001B[0m                              Traceback (most recent call last)",
      "\u001B[1;32m<ipython-input-151-25f2de3512a9>\u001B[0m in \u001B[0;36m<module>\u001B[1;34m\u001B[0m\n\u001B[0;32m     22\u001B[0m         \u001B[1;31m#Reset gradient and execute backpropagation and optimization\u001B[0m\u001B[1;33m\u001B[0m\u001B[1;33m\u001B[0m\u001B[1;33m\u001B[0m\u001B[0m\n\u001B[0;32m     23\u001B[0m         \u001B[0mopt\u001B[0m\u001B[1;33m.\u001B[0m\u001B[0mzero_grad\u001B[0m\u001B[1;33m(\u001B[0m\u001B[1;33m)\u001B[0m\u001B[1;33m\u001B[0m\u001B[1;33m\u001B[0m\u001B[0m\n\u001B[1;32m---> 24\u001B[1;33m         \u001B[0mloss\u001B[0m\u001B[1;33m.\u001B[0m\u001B[0mbackward\u001B[0m\u001B[1;33m(\u001B[0m\u001B[1;33m)\u001B[0m\u001B[1;33m\u001B[0m\u001B[1;33m\u001B[0m\u001B[0m\n\u001B[0m\u001B[0;32m     25\u001B[0m         \u001B[0mopt\u001B[0m\u001B[1;33m.\u001B[0m\u001B[0mstep\u001B[0m\u001B[1;33m(\u001B[0m\u001B[1;33m)\u001B[0m\u001B[1;33m\u001B[0m\u001B[1;33m\u001B[0m\u001B[0m\n\u001B[0;32m     26\u001B[0m     \u001B[0mprint\u001B[0m\u001B[1;33m(\u001B[0m\u001B[0mmodel\u001B[0m\u001B[1;33m.\u001B[0m\u001B[0mparameters\u001B[0m\u001B[1;33m)\u001B[0m\u001B[1;33m\u001B[0m\u001B[1;33m\u001B[0m\u001B[0m\n",
      "\u001B[1;32mc:\\users\\chris\\appdata\\local\\programs\\python\\python37\\lib\\site-packages\\torch\\tensor.py\u001B[0m in \u001B[0;36mbackward\u001B[1;34m(self, gradient, retain_graph, create_graph)\u001B[0m\n\u001B[0;32m    219\u001B[0m                 \u001B[0mretain_graph\u001B[0m\u001B[1;33m=\u001B[0m\u001B[0mretain_graph\u001B[0m\u001B[1;33m,\u001B[0m\u001B[1;33m\u001B[0m\u001B[1;33m\u001B[0m\u001B[0m\n\u001B[0;32m    220\u001B[0m                 create_graph=create_graph)\n\u001B[1;32m--> 221\u001B[1;33m         \u001B[0mtorch\u001B[0m\u001B[1;33m.\u001B[0m\u001B[0mautograd\u001B[0m\u001B[1;33m.\u001B[0m\u001B[0mbackward\u001B[0m\u001B[1;33m(\u001B[0m\u001B[0mself\u001B[0m\u001B[1;33m,\u001B[0m \u001B[0mgradient\u001B[0m\u001B[1;33m,\u001B[0m \u001B[0mretain_graph\u001B[0m\u001B[1;33m,\u001B[0m \u001B[0mcreate_graph\u001B[0m\u001B[1;33m)\u001B[0m\u001B[1;33m\u001B[0m\u001B[1;33m\u001B[0m\u001B[0m\n\u001B[0m\u001B[0;32m    222\u001B[0m \u001B[1;33m\u001B[0m\u001B[0m\n\u001B[0;32m    223\u001B[0m     \u001B[1;32mdef\u001B[0m \u001B[0mregister_hook\u001B[0m\u001B[1;33m(\u001B[0m\u001B[0mself\u001B[0m\u001B[1;33m,\u001B[0m \u001B[0mhook\u001B[0m\u001B[1;33m)\u001B[0m\u001B[1;33m:\u001B[0m\u001B[1;33m\u001B[0m\u001B[1;33m\u001B[0m\u001B[0m\n",
      "\u001B[1;32mc:\\users\\chris\\appdata\\local\\programs\\python\\python37\\lib\\site-packages\\torch\\autograd\\__init__.py\u001B[0m in \u001B[0;36mbackward\u001B[1;34m(tensors, grad_tensors, retain_graph, create_graph, grad_variables)\u001B[0m\n\u001B[0;32m    130\u001B[0m     Variable._execution_engine.run_backward(\n\u001B[0;32m    131\u001B[0m         \u001B[0mtensors\u001B[0m\u001B[1;33m,\u001B[0m \u001B[0mgrad_tensors_\u001B[0m\u001B[1;33m,\u001B[0m \u001B[0mretain_graph\u001B[0m\u001B[1;33m,\u001B[0m \u001B[0mcreate_graph\u001B[0m\u001B[1;33m,\u001B[0m\u001B[1;33m\u001B[0m\u001B[1;33m\u001B[0m\u001B[0m\n\u001B[1;32m--> 132\u001B[1;33m         allow_unreachable=True)  # allow_unreachable flag\n\u001B[0m\u001B[0;32m    133\u001B[0m \u001B[1;33m\u001B[0m\u001B[0m\n\u001B[0;32m    134\u001B[0m \u001B[1;33m\u001B[0m\u001B[0m\n",
      "\u001B[1;31mRuntimeError\u001B[0m: element 0 of tensors does not require grad and does not have a grad_fn"
     ]
    }
   ],
   "source": [
    "import IPython.display\n",
    "\n",
    "#if os.path.isfile('saveTask1.pt'):\n",
    "#    model = torch.load('saveTask1.pt')\n",
    "\n",
    "#print(os.path.isfile('saveTask1.pt'))\n",
    "\n",
    "for epo in range(epochs):\n",
    "    #print(trainloader)\n",
    "    print(model.parameters)\n",
    "    for i,data in enumerate(trainloader):\n",
    "        #\"Transport\" the data to CUDA if available, and otherwise to the CPU\n",
    "        image = data[0].to(device)\n",
    "        label = data[1].to(device)\n",
    "\n",
    "        #Compute the forward propagation\n",
    "        output = model(image)\n",
    "\n",
    "        #Compute the train loss\n",
    "        loss = loss_f(output, label)\n",
    "\n",
    "        #Reset gradient and execute backpropagation and optimization\n",
    "        opt.zero_grad()\n",
    "        loss.backward()\n",
    "        opt.step()\n",
    "    print(model.parameters)\n",
    "       # torch.save(model, 'saveTask1.pt')\n",
    "\n"
   ]
  },
  {
   "cell_type": "markdown",
   "metadata": {},
   "source": [
    "### 1.7 Evaluate your model(1.5 points)\n",
    "In this section you have to implement the evaluation metrics for your model. Calculate the values of F1-score, dice coefficient and AUC-ROC score on the data you used for training. You can use external packages like scikit-learn to compute above metrics."
   ]
  },
  {
   "cell_type": "code",
   "execution_count": null,
   "metadata": {},
   "outputs": [],
   "source": [
    "def evaluate(ground_truth, predictions):\n",
    "    \n",
    "    return f1_score, auc_score, dice_coeeficient"
   ]
  },
  {
   "cell_type": "markdown",
   "metadata": {},
   "source": [
    "### 1.8 Plot the evaluation metrics against epochs(1.0)\n",
    "In section 1.6 we saved the weights of the model after each epoch. In this section, you have to calculate the evaluation metrics after each epoch of training by loading the weights for each epoch. Once you have calculated the evaluation metrics for each epoch, plot them against the epochs."
   ]
  },
  {
   "cell_type": "code",
   "execution_count": null,
   "metadata": {},
   "outputs": [],
   "source": []
  },
  {
   "cell_type": "markdown",
   "metadata": {},
   "source": [
    "### 1.9 Visualize results(0.5 points)\n",
    "For any 10 images in the dataset, show the images along the with their segmentation mask."
   ]
  },
  {
   "cell_type": "code",
   "execution_count": null,
   "metadata": {
    "id": "3NS50IL_c7Mf"
   },
   "outputs": [],
   "source": []
  }
 ],
 "metadata": {
  "accelerator": "GPU",
  "colab": {
   "authorship_tag": "ABX9TyNWH9Es3iVeYFlc2UXzgAC7",
   "collapsed_sections": [],
   "mount_file_id": "1VGd6BoJzZfNjljQpW2Y1nDcze9QND0pA",
   "name": "Copy of segmentation_1.ipynb",
   "provenance": [
    {
     "file_id": "1VGd6BoJzZfNjljQpW2Y1nDcze9QND0pA",
     "timestamp": 1610458540688
    }
   ]
  },
  "kernelspec": {
   "name": "python3",
   "language": "python",
   "display_name": "Python 3"
  },
  "language_info": {
   "codemirror_mode": {
    "name": "ipython",
    "version": 3
   },
   "file_extension": ".py",
   "mimetype": "text/x-python",
   "name": "python",
   "nbconvert_exporter": "python",
   "pygments_lexer": "ipython3",
   "version": "3.8.5"
  }
 },
 "nbformat": 4,
 "nbformat_minor": 4
}