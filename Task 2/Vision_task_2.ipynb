{
 "cells": [
  {
   "cell_type": "markdown",
   "metadata": {
    "collapsed": true,
    "pycharm": {
     "name": "#%% md\n"
    }
   },
   "source": [
    "# Recurrent Residual Convolutional Neural Network\n",
    "\n",
    "### Simon Laurent Lebailly, 2549365, s9sileba@teams.uni-saarland.de\n",
    "### Christian Mathieu Schmidt, 2537621, s9cmscmi@teams.uni-saarland.de"
   ]
  },
  {
   "cell_type": "markdown",
   "source": [],
   "metadata": {
    "collapsed": false,
    "pycharm": {
     "name": "#%% md\n"
    }
   }
  },
  {
   "cell_type": "markdown",
   "source": [
    "## Import libaries"
   ],
   "metadata": {
    "collapsed": false
   }
  },
  {
   "cell_type": "code",
   "execution_count": null,
   "outputs": [],
   "source": [
    "import os\n",
    "from os.path import join as pjoin\n",
    "import collections\n",
    "import json\n",
    "import torch\n",
    "import imageio\n",
    "import numpy as np\n",
    "import scipy.misc as m\n",
    "import scipy.io as io\n",
    "import matplotlib.pyplot as plt\n",
    "import glob\n",
    "\n",
    "from PIL import Image\n",
    "from tqdm import tqdm"
   ],
   "metadata": {
    "collapsed": false,
    "pycharm": {
     "name": "#%%\n"
    }
   }
  },
  {
   "cell_type": "markdown",
   "source": [
    "## Use CUDA if possible"
   ],
   "metadata": {
    "collapsed": false,
    "pycharm": {
     "name": "#%% md\n"
    }
   }
  },
  {
   "cell_type": "code",
   "execution_count": null,
   "outputs": [],
   "source": [
    "#Check if CUDA is available, if not use the CPU.\n",
    "train_on_GPU = torch.cuda.is_available()\n",
    "device = torch.device('cuda' if train_on_GPU else 'cpu')\n",
    "\n",
    "if train_on_GPU:\n",
    "    print('CUDA available!')\n",
    "else:\n",
    "    print('CUDA not available!')"
   ],
   "metadata": {
    "collapsed": false,
    "pycharm": {
     "name": "#%%\n"
    }
   }
  },
  {
   "cell_type": "markdown",
   "source": [
    "## Define Hyperparameters"
   ],
   "metadata": {
    "collapsed": false,
    "pycharm": {
     "name": "#%% md\n"
    }
   }
  },
  {
   "cell_type": "code",
   "execution_count": null,
   "outputs": [],
   "source": [
    "batch_size = 4\n",
    "epochs = 10\n",
    "\n",
    "learning_rate = 0.0001"
   ],
   "metadata": {
    "collapsed": false,
    "pycharm": {
     "name": "#%%\n"
    }
   }
  },
  {
   "cell_type": "markdown",
   "source": [
    "## Import dataset Cityscapes"
   ],
   "metadata": {
    "collapsed": false,
    "pycharm": {
     "name": "#%% md\n"
    }
   }
  },
  {
   "cell_type": "code",
   "execution_count": null,
   "outputs": [],
   "source": [
    "from torch.utils import data\n",
    "from torchvision import transforms\n",
    "from torchvision import datasets\n",
    "\n",
    "\n",
    "#Define normalization for dataset\n",
    "normalize = transforms.Normalize(\n",
    "    mean = [0.485, 0.456, 0.406],\n",
    "    std = [0.229, 0.224, 0.225]\n",
    ")\n",
    "\n",
    "#Define transformation for train, validation and test dataset\n",
    "transform = transforms.Compose([\n",
    "    transforms.Resize((256,512)),\n",
    "    transforms.ToTensor(),\n",
    "    normalize\n",
    "])\n",
    "\n",
    "#Path of dataset\n",
    "root_path = 'data'\n",
    "\n",
    "#Import dataset for training\n",
    "train_set = datasets.Cityscapes(root_path, split='train', mode='fine', transform=transform)\n",
    "quantity_train = len(train_set)\n",
    "print('Quantity training data: '+ str(quantity_train))\n",
    "\n",
    "#Prepare training dataset for NN\n",
    "train_loader = data.DataLoader(train_set, batch_size=batch_size, shuffle=True)\n",
    "\n",
    "\n",
    "#Import dataset for validation\n",
    "validation_set = datasets.Cityscapes(root_path, split='val', mode='fine', transform=transform)\n",
    "quantity_validation = len(validation_set)\n",
    "print('Quantity validation data: '+ str(quantity_validation))\n",
    "\n",
    "#Prepare validation dataset for NN\n",
    "validation_loader = data.DataLoader(validation_set, batch_size=batch_size, shuffle=True)\n",
    "\n",
    "\n",
    "#Import dataset for testing\n",
    "test_set = datasets.Cityscapes(root_path, split='test', mode='fine', transform=transform)\n",
    "quantity_test = len(test_set)\n",
    "print('Quantity testing data: '+ str(quantity_test))\n",
    "\n",
    "#Prepare test dataset for NN\n",
    "test_loader = data.DataLoader(test_set, batch_size=batch_size, shuffle=False)"
   ],
   "metadata": {
    "collapsed": false,
    "pycharm": {
     "name": "#%%\n"
    }
   }
  },
  {
   "cell_type": "markdown",
   "source": [
    "## Define R2U-Net model"
   ],
   "metadata": {
    "collapsed": false,
    "pycharm": {
     "name": "#%% md\n"
    }
   }
  },
  {
   "cell_type": "code",
   "execution_count": null,
   "outputs": [],
   "source": [
    "import torch.nn as nn\n",
    "\n",
    "class R2U_Net(nn.Module):\n",
    "    def __init__(self):\n",
    "        super(R2U_Net, self).__init__()\n",
    "        pass\n",
    "\n",
    "\n",
    "    def forward(self, x):\n",
    "        pass"
   ],
   "metadata": {
    "collapsed": false,
    "pycharm": {
     "name": "#%%\n"
    }
   }
  },
  {
   "cell_type": "code",
   "execution_count": null,
   "outputs": [],
   "source": [
    "#Load model to device\n",
    "r2u_net = R2U_Net().to(device)"
   ],
   "metadata": {
    "collapsed": false,
    "pycharm": {
     "name": "#%%\n"
    }
   }
  },
  {
   "cell_type": "markdown",
   "source": [
    "## Define Criterion and Optimizer"
   ],
   "metadata": {
    "collapsed": false,
    "pycharm": {
     "name": "#%% md\n"
    }
   }
  },
  {
   "cell_type": "code",
   "execution_count": null,
   "outputs": [],
   "source": [
    "# loss function\n",
    "criterion = nn.CrossEntropyLoss().to(device)\n",
    "\n",
    "# optimizer variable\n",
    "opt = torch.optim.Adam(r2u_net.parameters(), lr=learning_rate)"
   ],
   "metadata": {
    "collapsed": false,
    "pycharm": {
     "name": "#%%\n"
    }
   }
  },
  {
   "cell_type": "markdown",
   "source": [
    "## Load model"
   ],
   "metadata": {
    "collapsed": false,
    "pycharm": {
     "name": "#%% md\n"
    }
   }
  },
  {
   "cell_type": "code",
   "execution_count": null,
   "outputs": [],
   "source": [
    "if os.path.isfile('task_2_model_parameters.pt'):\n",
    "    r2u_net = torch.load('task_2_model_parameters.pt')"
   ],
   "metadata": {
    "collapsed": false,
    "pycharm": {
     "name": "#%%\n"
    }
   }
  },
  {
   "cell_type": "markdown",
   "source": [
    "## Train loop"
   ],
   "metadata": {
    "collapsed": false,
    "pycharm": {
     "name": "#%% md\n"
    }
   }
  },
  {
   "cell_type": "code",
   "execution_count": null,
   "outputs": [],
   "source": [
    "for epo in range(epochs):\n",
    "    trainloader_loop = tqdm(train_loader)\n",
    "\n",
    "    for i, data in enumerate(trainloader_loop):\n",
    "        torch.save(r2u_net, 'saveTask1.pt')\n",
    "\n",
    "print(\"Finished training!\")"
   ],
   "metadata": {
    "collapsed": false,
    "pycharm": {
     "name": "#%%\n"
    }
   }
  },
  {
   "cell_type": "markdown",
   "source": [
    "## Evaluation"
   ],
   "metadata": {
    "collapsed": false,
    "pycharm": {
     "name": "#%% md\n"
    }
   }
  },
  {
   "cell_type": "code",
   "execution_count": null,
   "outputs": [],
   "source": [
    "from scipy import spatial\n",
    "import sklearn.metrics as metrics\n",
    "\n",
    "\n",
    "def one_row(ground_truth, prediction):\n",
    "    truth = prediction.argmax(dim=1).view(1,-1)\n",
    "    truth = np.squeeze(truth.numpy())\n",
    "\n",
    "    pred = ground_truth.view(1,-1)\n",
    "    pred = np.squeeze(pred.numpy())\n",
    "\n",
    "    return truth.astype(float), pred.astype(float)\n",
    "\n",
    "\n",
    "def evaluate(ground_truth, predictions):\n",
    "    ground_truth2 = ground_truth.copy()\n",
    "    predictions2 = predictions.copy()\n",
    "\n",
    "    f1_score = 0\n",
    "    auc_score = 0\n",
    "    dice_coefficient = 0\n",
    "\n",
    "    listlen = min(len(ground_truth2),len(predictions2))\n",
    "\n",
    "    for l in range(0, listlen):\n",
    "        x = ground_truth2[l].cpu()\n",
    "        y = predictions2[l].cpu()\n",
    "\n",
    "        transform_tensors = one_row(x, y)\n",
    "\n",
    "        f1_score += metrics.f1_score(transform_tensors[0], transform_tensors[1],average=None)\n",
    "        auc_score += metrics.roc_auc_score(transform_tensors[0], transform_tensors[1], average=None, multi_class='ovo')\n",
    "        dice_coefficient += abs(spatial.distance.dice(transform_tensors[0], transform_tensors[1], w=None))\n",
    "\n",
    "    f1_score = f1_score/listlen\n",
    "    auc_score = auc_score/listlen\n",
    "    dice_coefficient = dice_coefficient/listlen\n",
    "\n",
    "    return f1_score, auc_score, dice_coefficient"
   ],
   "metadata": {
    "collapsed": false,
    "pycharm": {
     "name": "#%%\n"
    }
   }
  },
  {
   "cell_type": "markdown",
   "source": [
    "## Evaluation plots"
   ],
   "metadata": {
    "collapsed": false,
    "pycharm": {
     "name": "#%% md\n"
    }
   }
  },
  {
   "cell_type": "code",
   "execution_count": null,
   "outputs": [],
   "source": [
    "\n",
    "\n",
    "\n",
    "\n",
    "\n",
    "\n",
    "\n",
    "\n",
    "\n",
    "\n",
    "\n",
    "\n",
    "\n",
    "\n",
    "\n",
    "\n",
    "\n",
    "\n",
    "\n",
    "\n",
    "\n",
    "\n",
    "\n",
    "\n",
    "\n",
    "\n",
    "\n",
    "\n",
    "\n",
    "\n",
    "\n",
    "\n",
    "\n",
    "\n",
    "\n",
    "\n",
    "\n",
    "\n",
    "\n",
    "\n",
    "\n",
    "\n",
    "\n",
    "\n",
    "\n",
    "\n",
    "\n",
    "\n",
    "\n",
    "\n",
    "\n",
    "\n",
    "\n",
    "\n",
    "\n",
    "\n",
    "\n",
    "\n",
    "\n",
    "\n",
    "\n",
    "\n",
    "\n"
   ],
   "metadata": {
    "collapsed": false,
    "pycharm": {
     "name": "#%%\n"
    }
   }
  }
 ],
 "metadata": {
  "kernelspec": {
   "display_name": "Python 3",
   "language": "python",
   "name": "python3"
  },
  "language_info": {
   "codemirror_mode": {
    "name": "ipython",
    "version": 2
   },
   "file_extension": ".py",
   "mimetype": "text/x-python",
   "name": "python",
   "nbconvert_exporter": "python",
   "pygments_lexer": "ipython2",
   "version": "2.7.6"
  }
 },
 "nbformat": 4,
 "nbformat_minor": 0
}